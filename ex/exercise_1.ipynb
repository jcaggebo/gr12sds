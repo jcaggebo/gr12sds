{
 "cells": [
  {
   "cell_type": "markdown",
   "metadata": {},
   "source": [
    "> **Note:** In most sessions you will be solving exercises posed in a Jupyter notebook that looks like this one. Because you are cloning a Github repository that only we can push to, you should **NEVER EDIT** any of the files you pull from Github. Instead, what you should do, is either make a new notebook and write your solutions in there, or **make a copy of this notebook and save it somewhere else** on your computer, not inside the `sds` folder that you cloned, so you can write your answers in there. If you edit the notebook you pulled from Github, those edits (possible your solutions to the exercises) may be overwritten and lost the next time you pull from Github. This is important, so don't hesitate to ask if it is unclear."
   ]
  },
  {
   "cell_type": "markdown",
   "metadata": {
    "ExecuteTime": {
     "end_time": "2017-08-23T15:30:03.634114Z",
     "start_time": "2017-08-23T15:30:03.629294Z"
    }
   },
   "source": [
    "# Exercise set 1: Introduction to Python\n",
    "\n",
    "*Morning, August 13, 2018*\n",
    "\n",
    "In this session you will be working with core Python. We will go over some of the basic operations and functions in Python. You will learn to set up a `for` loop and write your own function."
   ]
  },
  {
   "cell_type": "markdown",
   "metadata": {},
   "source": [
    "### Exercise Section 1.0.: Check modules are working\n",
    "\n",
    "Run the cell below to check you have all the relevant packages installed. You should get a scatter plot of `total_bill` and `tip` in the dataset `tips`."
   ]
  },
  {
   "cell_type": "code",
   "execution_count": 1,
   "metadata": {
    "scrolled": false
   },
   "outputs": [
    {
     "name": "stderr",
     "output_type": "stream",
     "text": [
      "/anaconda3/lib/python3.6/site-packages/matplotlib/axes/_axes.py:6462: UserWarning: The 'normed' kwarg is deprecated, and has been replaced by the 'density' kwarg.\n",
      "  warnings.warn(\"The 'normed' kwarg is deprecated, and has been \"\n",
      "/anaconda3/lib/python3.6/site-packages/matplotlib/axes/_axes.py:6462: UserWarning: The 'normed' kwarg is deprecated, and has been replaced by the 'density' kwarg.\n",
      "  warnings.warn(\"The 'normed' kwarg is deprecated, and has been \"\n"
     ]
    },
    {
     "data": {
      "text/plain": [
       "<Figure size 600x600 with 3 Axes>"
      ]
     },
     "metadata": {},
     "output_type": "display_data"
    }
   ],
   "source": [
    "# This part import the relevant packages \n",
    "import matplotlib.pyplot as plt\n",
    "import numpy as np\n",
    "import pandas as pd\n",
    "import requests\n",
    "import seaborn as sns\n",
    "\n",
    "# We load the dataset 'tips' from the seaborn package, and call the dataset tips\n",
    "tips = sns.load_dataset('tips')\n",
    "# We use seaborn to make a jointplot, with total_bill on the x-axis and tip on the y-axis, form the dataset tips.\n",
    "sns.jointplot(x='total_bill', y='tip', data=tips)\n",
    "\n",
    "# The plot is displayed\n",
    "plt.show()"
   ]
  },
  {
   "cell_type": "markdown",
   "metadata": {},
   "source": [
    "### Exercises"
   ]
  },
  {
   "cell_type": "markdown",
   "metadata": {},
   "source": [
    "### Exercise Section 1.1: Basic operations and functions\n",
    "We start with some simple procedures for core Python."
   ]
  },
  {
   "cell_type": "markdown",
   "metadata": {},
   "source": [
    "> **Ex. 1.1.1**: Division in Python has two ways of usage. What is the output of `5/2`?  What is the output of `5//2`? What is the fundamental data type for each of the two operations? Explain your results.\n",
    "\n",
    "> Note: Python 2 and 3 are different on what `/` does to integers! "
   ]
  },
  {
   "cell_type": "code",
   "execution_count": 2,
   "metadata": {},
   "outputs": [
    {
     "data": {
      "text/plain": [
       "2.5"
      ]
     },
     "execution_count": 2,
     "metadata": {},
     "output_type": "execute_result"
    }
   ],
   "source": [
    "5/2"
   ]
  },
  {
   "cell_type": "code",
   "execution_count": 3,
   "metadata": {},
   "outputs": [
    {
     "data": {
      "text/plain": [
       "2"
      ]
     },
     "execution_count": 3,
     "metadata": {},
     "output_type": "execute_result"
    }
   ],
   "source": [
    "5//2"
   ]
  },
  {
   "cell_type": "markdown",
   "metadata": {},
   "source": [
    "/ er divison\n",
    "// runder ned og retunerer en integer"
   ]
  },
  {
   "cell_type": "markdown",
   "metadata": {},
   "source": [
    "> **Ex. 1.1.2\n",
    "**: What happens if we use the modulus operator instead, i.e. `5%2`? What is the output of `5**2`? Explain your answers."
   ]
  },
  {
   "cell_type": "code",
   "execution_count": 4,
   "metadata": {},
   "outputs": [
    {
     "data": {
      "text/plain": [
       "1"
      ]
     },
     "execution_count": 4,
     "metadata": {},
     "output_type": "execute_result"
    }
   ],
   "source": [
    "5%2"
   ]
  },
  {
   "cell_type": "code",
   "execution_count": 5,
   "metadata": {},
   "outputs": [
    {
     "data": {
      "text/plain": [
       "25"
      ]
     },
     "execution_count": 5,
     "metadata": {},
     "output_type": "execute_result"
    }
   ],
   "source": [
    "5**2"
   ]
  },
  {
   "cell_type": "markdown",
   "metadata": {},
   "source": [
    "% returnerer resten\n",
    "** er eksponenten"
   ]
  },
  {
   "cell_type": "markdown",
   "metadata": {},
   "source": [
    "> **Ex. 1.1.3**: use expressions `<`, `>`, `==`, `!=` to compare 4 to 6 (e.g. run `4<6`)- what are the input data types? What are the output data types?"
   ]
  },
  {
   "cell_type": "code",
   "execution_count": 6,
   "metadata": {},
   "outputs": [
    {
     "name": "stdout",
     "output_type": "stream",
     "text": [
      "True\n",
      "False\n",
      "False\n",
      "True\n"
     ]
    }
   ],
   "source": [
    "print(4<6)\n",
    "print(4>6)\n",
    "print(4==6)\n",
    "print(4!=6)"
   ]
  },
  {
   "cell_type": "markdown",
   "metadata": {},
   "source": [
    "> **Ex. 1.1.4**: Use the functions `abs`, `round` to return the absolute value of -3.14159265 with 3 decimals."
   ]
  },
  {
   "cell_type": "code",
   "execution_count": 7,
   "metadata": {},
   "outputs": [
    {
     "name": "stdout",
     "output_type": "stream",
     "text": [
      "3.14159265\n",
      "-3\n"
     ]
    }
   ],
   "source": [
    "print(abs(-3.14159265))\n",
    "print(round(-3.14159265))"
   ]
  },
  {
   "cell_type": "markdown",
   "metadata": {},
   "source": [
    "### Exercise Section 1.2: Logic and loops"
   ]
  },
  {
   "cell_type": "markdown",
   "metadata": {},
   "source": [
    "> **Ex. 1.2.1**: `if` & `else`     \n",
    "    Imagine that we have a car that can fit 5 passengers, and we want to know, if the car can fit more passengers.    \n",
    "        Using 'if' and 'else', make a piece of code that prints out \"The car is full\" if *passengers* is 5 or more, and \"The car is not full yet\" if *passengers* are less than 5.\n",
    "\n",
    "> *Note*: Multiple conditions can be inserted with **elif** statement(s):\n"
   ]
  },
  {
   "cell_type": "code",
   "execution_count": 8,
   "metadata": {},
   "outputs": [
    {
     "name": "stdout",
     "output_type": "stream",
     "text": [
      "The car is not full yet\n"
     ]
    }
   ],
   "source": [
    "passengers = 3\n",
    "if passengers >= 5:\n",
    "    print(\"The car is full\")\n",
    "elif passengers < 5:\n",
    "    print(\"The car is not full yet\")"
   ]
  },
  {
   "cell_type": "markdown",
   "metadata": {},
   "source": [
    "> **Ex. 1.2.2**: compute and print each element in the range 1 to 5 cubic (i.e. lifted to power 3) using a `for` loop \n",
    "\n",
    "> *Hint*: Python's `range` may be useful"
   ]
  },
  {
   "cell_type": "code",
   "execution_count": 9,
   "metadata": {},
   "outputs": [
    {
     "name": "stdout",
     "output_type": "stream",
     "text": [
      "1\n",
      "8\n",
      "27\n",
      "64\n",
      "125\n"
     ]
    }
   ],
   "source": [
    "for i in range(1,6):\n",
    "    print(i**3)"
   ]
  },
  {
   "cell_type": "markdown",
   "metadata": {},
   "source": [
    "> **Ex. 1.2.3**: Now make a  `while` loops that prints the square (i.e. lifted to power 2) of all the values from 1 to 12.\n",
    "\n",
    "> *Hint*: Add 1 to your iterator variable at the end of each loop. (You can use the += operator this)"
   ]
  },
  {
   "cell_type": "code",
   "execution_count": 10,
   "metadata": {},
   "outputs": [
    {
     "name": "stdout",
     "output_type": "stream",
     "text": [
      "1\n",
      "4\n",
      "9\n",
      "16\n",
      "25\n",
      "36\n",
      "49\n",
      "64\n",
      "81\n",
      "100\n",
      "121\n",
      "144\n"
     ]
    }
   ],
   "source": [
    "i=1\n",
    "while i <= 12:\n",
    "    print(i**2)\n",
    "    i += 1"
   ]
  },
  {
   "cell_type": "markdown",
   "metadata": {},
   "source": [
    "### Exercise Section 1.3: Container and arrays "
   ]
  },
  {
   "cell_type": "markdown",
   "metadata": {},
   "source": [
    "> **Ex. 1.3.1**: make two lists, `A` and `B` with respectively integers 2,3,1 and 3,7,4. What is the index of 3 in list Β?"
   ]
  },
  {
   "cell_type": "code",
   "execution_count": 11,
   "metadata": {},
   "outputs": [
    {
     "name": "stdout",
     "output_type": "stream",
     "text": [
      "4\n"
     ]
    }
   ],
   "source": [
    "A = [2,3,1]\n",
    "B = [3,7,4]\n",
    "\n",
    "print(B[2])"
   ]
  },
  {
   "cell_type": "markdown",
   "metadata": {},
   "source": [
    "> **Ex. 1.3.2**: make a list `C` which consist of first `A`, then `B`. How might we describe this list? Convert `C` into a `numpy array` named `C_a`. What are the dimensions `C` after being converted to an array.\n",
    "\n",
    "> *Hint 1*: you must import `numpy` before you make the array\n",
    "\n",
    "> *Hint 2*: numpy arrays have the attribute `shape`."
   ]
  },
  {
   "cell_type": "code",
   "execution_count": 12,
   "metadata": {
    "scrolled": true
   },
   "outputs": [
    {
     "name": "stdout",
     "output_type": "stream",
     "text": [
      "(2, 3)\n",
      "[[2 3 1]\n",
      " [3 7 4]]\n"
     ]
    }
   ],
   "source": [
    "C = [A, B]\n",
    "C_a = np.array(C)\n",
    "print(C_a.shape)\n",
    "print(C_a)"
   ]
  },
  {
   "cell_type": "markdown",
   "metadata": {},
   "source": [
    "It is often useful to access lists through its indices. Let `L=[0,2,1,3]`. Slicing of a list works  by returning a subsequence: `B[2:]` returns `[1,3]` and `L[1:3]` returns `[2,1]`.\n",
    "\n",
    "\n",
    "> **Ex. 1.3.3**:       \n",
    "- Use `in` operator to check if which values are in `B`\n",
    "- Slice `B` to print only its second and third element"
   ]
  },
  {
   "cell_type": "code",
   "execution_count": 13,
   "metadata": {},
   "outputs": [
    {
     "name": "stdout",
     "output_type": "stream",
     "text": [
      "False\n",
      "[7, 4]\n"
     ]
    }
   ],
   "source": [
    "L = [0,2,1,3]\n",
    "print(B in L)\n",
    "print(B[1:])"
   ]
  },
  {
   "cell_type": "markdown",
   "metadata": {},
   "source": [
    "We can change the elements in a list. Substitution of an element in the list can be done by slicing.\n",
    "\n",
    "> **Ex. 1.3.4**:  replace middle element of `B` with 9"
   ]
  },
  {
   "cell_type": "code",
   "execution_count": 14,
   "metadata": {},
   "outputs": [
    {
     "name": "stdout",
     "output_type": "stream",
     "text": [
      "[3, 9, 4]\n"
     ]
    }
   ],
   "source": [
    "B[1] = 9\n",
    "print(B)"
   ]
  },
  {
   "cell_type": "code",
   "execution_count": null,
   "metadata": {},
   "outputs": [],
   "source": []
  },
  {
   "cell_type": "markdown",
   "metadata": {},
   "source": [
    "> **Ex. 1.3.5**: Use functions for containers: Use `max` to find the maximal value of B, and `sorted` to print the elements in B from low to high"
   ]
  },
  {
   "cell_type": "code",
   "execution_count": 15,
   "metadata": {},
   "outputs": [
    {
     "name": "stdout",
     "output_type": "stream",
     "text": [
      "9\n",
      "[3, 4, 9]\n"
     ]
    }
   ],
   "source": [
    "print(max(B))\n",
    "print(sorted(B))"
   ]
  },
  {
   "cell_type": "markdown",
   "metadata": {},
   "source": [
    "> **Ex. 1.3.6**: try to add `B` to `A`. What is the new length of `A`? Are lists mutable? (e.i. can you change them?)\n",
    "\n",
    "> *Hint*: one way of doing this is with `append`. Adding elements to a list can be done as `L.append(O)` where `L` is our list and `O` is the object we add.\n",
    "\n",
    "> *Note*: More methods for lists can be seen [here](https://docs.python.org/3/tutorial/datastructures.html#more-on-lists), including removal of elements with **pop** and **remove**."
   ]
  },
  {
   "cell_type": "code",
   "execution_count": 16,
   "metadata": {},
   "outputs": [
    {
     "name": "stdout",
     "output_type": "stream",
     "text": [
      "[2, 3, 1, [3, 9, 4]]\n"
     ]
    }
   ],
   "source": [
    "A.append(B)\n",
    "print(A)"
   ]
  },
  {
   "cell_type": "markdown",
   "metadata": {},
   "source": [
    "A indeholder 4 elementer"
   ]
  },
  {
   "cell_type": "markdown",
   "metadata": {},
   "source": [
    "\n",
    "> **Ex. 1.3.7 - BONUS**: Convert `A`, `B` into sets named respectively `A_s`, `B_s`. Combine the set `A_s` and `B_s` into one set `C_s`. How many elements are there in `C_s`?\n",
    "\n",
    "> Note: read about the `set` container in Python [here](https://docs.python.org/3.6/tutorial/datastructures.html#sets)."
   ]
  },
  {
   "cell_type": "code",
   "execution_count": 22,
   "metadata": {},
   "outputs": [
    {
     "name": "stdout",
     "output_type": "stream",
     "text": [
      "{'[3, 9, 4]', '2', '3', '1'}\n",
      "{'3', '9', '4'}\n",
      "{'3', '4', '2', '9', '[3, 9, 4]', '1'}\n"
     ]
    }
   ],
   "source": [
    "A_s = set()\n",
    "B_s = set()\n",
    "\n",
    "# Omdanner liste til set\n",
    "\n",
    "for i in A:\n",
    "    A_s.add(str(i))\n",
    "print(A_s)\n",
    "\n",
    "# Omdanner liste til set\n",
    "\n",
    "for i in B:\n",
    "    B_s.add(str(i))\n",
    "print(B_s)\n",
    "\n",
    "C_s = set()\n",
    "\n",
    "for i in B_s:\n",
    "    C_s.add(i)\n",
    "for i in A_s:\n",
    "    C_s.add(i)\n",
    "print(C_s)"
   ]
  },
  {
   "cell_type": "markdown",
   "metadata": {},
   "source": [
    "### Exercise Section 1.4: Reusable code; functions and objects"
   ]
  },
  {
   "cell_type": "markdown",
   "metadata": {},
   "source": [
    "> **Ex. 1.4.1**: make a function named `my_subtract` that takes two arguments and subtracts the second argument from the first. Try altering the function where the second argument is equal to 3 as default; can you execute the function with only a single argument?"
   ]
  },
  {
   "cell_type": "code",
   "execution_count": 24,
   "metadata": {},
   "outputs": [
    {
     "name": "stdout",
     "output_type": "stream",
     "text": [
      "3\n"
     ]
    }
   ],
   "source": [
    "def my_subtract(x,y=3):\n",
    "    return x-y\n",
    "\n",
    "print(my_subtract(6))"
   ]
  },
  {
   "cell_type": "markdown",
   "metadata": {},
   "source": [
    "Numpy arrays is a class like lists, sets, dictonaries ect. Numpy arrays are both fast and easy to work with, when you are doing linear algebra. \n",
    "\n",
    "Like other classes Numpy arrays have certain functions, that are specific to Numpy arrays. These functions are called by first specifing the Numpy array, and then the a punctuation follow by the function (e.g. `myarray.sort()`) \n",
    "\n",
    "> **Ex. 1.4.2**: compute the sum over all elements in the matrix (i.e. 2d-array), `C_a`. Transpose the matrix `C_a`.\n",
    "\n",
    "> *Hint*: numpy has the function `sum` which may be of use"
   ]
  },
  {
   "cell_type": "code",
   "execution_count": 36,
   "metadata": {},
   "outputs": [
    {
     "name": "stdout",
     "output_type": "stream",
     "text": [
      "20\n",
      "[[2 3]\n",
      " [3 7]\n",
      " [1 4]]\n"
     ]
    }
   ],
   "source": [
    "print(np.sum(C_a))\n",
    "print(C_a.T)"
   ]
  },
  {
   "cell_type": "markdown",
   "metadata": {},
   "source": [
    "> **Ex. 1.4.3 - BONUS**: Make a class called employee, which take the arguments first_name, last_name and pay. Use it to make an object `employee_1`, and then print the first name, last name, and the pay of the employee. \n",
    "\n",
    "\n",
    "> *Hint:* Within the class you need first to define the \"\\_\\_init\\_\\_\" function, which take the argument *self*"
   ]
  },
  {
   "cell_type": "code",
   "execution_count": 49,
   "metadata": {},
   "outputs": [
    {
     "ename": "NameError",
     "evalue": "name '__init__' is not defined",
     "output_type": "error",
     "traceback": [
      "\u001b[0;31m---------------------------------------------------------------------------\u001b[0m",
      "\u001b[0;31mNameError\u001b[0m                                 Traceback (most recent call last)",
      "\u001b[0;32m<ipython-input-49-ffb78231f3f5>\u001b[0m in \u001b[0;36m<module>\u001b[0;34m()\u001b[0m\n\u001b[1;32m      6\u001b[0m         \u001b[0;32mreturn\u001b[0m \u001b[0mfirst_name\u001b[0m \u001b[0;34m+\u001b[0m \u001b[0;34m\" \"\u001b[0m \u001b[0;34m+\u001b[0m \u001b[0mlast_name\u001b[0m \u001b[0;34m+\u001b[0m \u001b[0;34m\", pay \"\u001b[0m \u001b[0;34m+\u001b[0m \u001b[0mpay\u001b[0m\u001b[0;34m\u001b[0m\u001b[0m\n\u001b[1;32m      7\u001b[0m \u001b[0;34m\u001b[0m\u001b[0m\n\u001b[0;32m----> 8\u001b[0;31m \u001b[0mprint\u001b[0m\u001b[0;34m(\u001b[0m\u001b[0m__init__\u001b[0m\u001b[0;34m(\u001b[0m\u001b[0memployee\u001b[0m\u001b[0;34m)\u001b[0m\u001b[0;34m)\u001b[0m\u001b[0;34m\u001b[0m\u001b[0m\n\u001b[0m",
      "\u001b[0;31mNameError\u001b[0m: name '__init__' is not defined"
     ]
    }
   ],
   "source": [
    "class employee:\n",
    "    first_name = \"Jens\"\n",
    "    last_name = \"Aggebo\"\n",
    "    pay = \"10 kr.\"\n",
    "    def __init__(self):\n",
    "        return first_name + \" \" + last_name + \", pay \" + pay\n",
    "\n",
    "print()"
   ]
  },
  {
   "cell_type": "code",
   "execution_count": null,
   "metadata": {},
   "outputs": [],
   "source": []
  }
 ],
 "metadata": {
  "kernelspec": {
   "display_name": "Python 3",
   "language": "python",
   "name": "python3"
  },
  "language_info": {
   "codemirror_mode": {
    "name": "ipython",
    "version": 3
   },
   "file_extension": ".py",
   "mimetype": "text/x-python",
   "name": "python",
   "nbconvert_exporter": "python",
   "pygments_lexer": "ipython3",
   "version": "3.6.5"
  },
  "nav_menu": {},
  "toc": {
   "navigate_menu": true,
   "number_sections": false,
   "sideBar": true,
   "threshold": 6,
   "toc_cell": false,
   "toc_section_display": "block",
   "toc_window_display": true
  }
 },
 "nbformat": 4,
 "nbformat_minor": 2
}
