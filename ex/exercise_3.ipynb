{
 "cells": [
  {
   "cell_type": "markdown",
   "metadata": {},
   "source": [
    "# Exercise Set 3: Strings, requests and APIs\n",
    "\n",
    "*Morning, August 14, 2018*\n",
    "\n",
    "In this exercise set you will be working with collecting from the web. We will start out with some basic string operations and build on that to make a query for fetching data.\n",
    "\n",
    "In addition to DataCamp, you might find [this page](https://pythonprogramming.net/string-concatenation-formatting-intermediate-python-tutorial/) on pythonprogramming.net useful. [This page](https://www.python-course.eu/python3_sequential_data_types.php) give an introduction to the basics of strings and their related data types. "
   ]
  },
  {
   "cell_type": "markdown",
   "metadata": {},
   "source": [
    "## Exercise Section 3.1: Basic string operations and dictionaries"
   ]
  },
  {
   "cell_type": "markdown",
   "metadata": {},
   "source": [
    "Strings have multiple operations and functions associated. In this exercise we investigate a few of these. We also explore the sequence form of a string and how it can be sliced and accessed via indices.\n",
    "\n",
    "> **Ex. 3.1.1**: Let `s1='Chameleon'` and `s2='ham'`. Check whether the string `s2` is a substring of `s1`. Is `'hello'` a substring `'goodbye'`?\n",
    "\n",
    "> *Hint*: One string operation is to check whether a string `S` contains a substring `T`, this can be done with the `in` operator: `S in T`. "
   ]
  },
  {
   "cell_type": "code",
   "execution_count": 1,
   "metadata": {},
   "outputs": [
    {
     "name": "stdout",
     "output_type": "stream",
     "text": [
      "True\n",
      "False\n"
     ]
    }
   ],
   "source": [
    "s1='Chameleon'\n",
    "s2='ham'\n",
    "\n",
    "print(s2 in s1)\n",
    "print('hello' in 'goodbye')"
   ]
  },
  {
   "cell_type": "markdown",
   "metadata": {},
   "source": [
    "> **Ex. 3.1.2**: From the string `s1` select the last four characters. What is the index of the character `a` in `s1`?\n",
    "\n",
    "> *Hint*: We can selecting a substring by slicing it with the `[]` notation, from the start to end where start is included and end is excluded. Recall that Python has zero-based indexing, see explanation [here](https://softwareengineering.stackexchange.com/questions/110804/why-are-zero-based-arrays-the-norm).\n"
   ]
  },
  {
   "cell_type": "code",
   "execution_count": 2,
   "metadata": {},
   "outputs": [
    {
     "name": "stdout",
     "output_type": "stream",
     "text": [
      "leon\n",
      "2\n"
     ]
    }
   ],
   "source": [
    "print(s1[-4:])\n",
    "print(s1.index('a'))"
   ]
  },
  {
   "cell_type": "markdown",
   "metadata": {},
   "source": [
    "In addition to the techniques above strings are equipped with an array of _methods_, for solving more complex tasks. For example the `str.join(list)` method will insert a string in between each element of a list. Oppositely `str1.split(str2)` splits `str1` into a list. `.strip()` removes spaces in the beginning and end of a word and `.format()` fills in specified blanks in a string.  Below we illustrate the use of each function\n",
    "\n",
    "```python\n",
    ">>> ','.join(['a','b']) \n",
    "'a,b'\n",
    "\n",
    ">>> ' Hello World! '.strip() \n",
    "'Hello World!'\n",
    "\n",
    ">>> 'Hello {w}'.format(w='World!') \n",
    "'Hello World!'\n",
    "\n",
    ">>> 'a,b,c'.split(',') \n",
    "['a','b','c']\n",
    "```"
   ]
  },
  {
   "cell_type": "markdown",
   "metadata": {},
   "source": [
    "> **Ex. 3.1.3:** Let `l1 = ['r ', 'Is', '>', ' < ', 'g ', '?']`. Create from `l1` the sentence \"Is r > g?\" using your knowledge about string formatting. Make sure there is only one space in between worlds."
   ]
  },
  {
   "cell_type": "code",
   "execution_count": 3,
   "metadata": {},
   "outputs": [
    {
     "name": "stdout",
     "output_type": "stream",
     "text": [
      "Is r > g?\n"
     ]
    }
   ],
   "source": [
    "ll = ['r ', 'Is', '>', ' < ', 'g ', '?']\n",
    "\n",
    "print(ll[1]+' '+ll[0]+ll[2]+' '+ll[-2].strip()+ll[-1])"
   ]
  },
  {
   "cell_type": "markdown",
   "metadata": {},
   "source": [
    "### Dictionaries\n",
    "\n",
    "Dictionaries (or simply dicts) are a central building block of python. Python dicts are constructed from pairs of keys and values making them extremely versatile for data storage. Furthermore dicts correspond directly to the json file format.  \n",
    "\n",
    "> **Ex. 3.1.4**: Create an empty dictionary `words` using the `dict()`function. Then add each of the words in `['animal', 'coffee', 'python', 'unit', 'knowledge', 'tread', 'arise']` as a key, with the value being a boolean indicator for whether the word begins with a vowel. The results should look like `{'bacon': False, 'asynchronous': True ...}` "
   ]
  },
  {
   "cell_type": "code",
   "execution_count": 4,
   "metadata": {},
   "outputs": [
    {
     "name": "stdout",
     "output_type": "stream",
     "text": [
      "[True, False, False, True, False, False, True]\n",
      "{'animal': True, 'coffee': False, 'python': False, 'unit': True, 'knowledge': False, 'tread': False, 'arise': True}\n"
     ]
    }
   ],
   "source": [
    "Keys = ['animal', 'coffee', 'python', 'unit', 'knowledge', 'tread', 'arise']\n",
    "Vowels = 'aeuioy'\n",
    "Values = [Key[0] in Vowels for Key in Keys]\n",
    "print(Values)\n",
    "\n",
    "words = dict(zip(Keys,Values))\n",
    "print(words)"
   ]
  },
  {
   "cell_type": "markdown",
   "metadata": {},
   "source": [
    "> **Ex. 3.1.5:** Loop through the dictionary `words`. In each iteration you should print a proper sentence stating if the current word begins with a vowel or not. \n",
    "\n",
    "> _Hint:_ You can loop through both keys and values simultaneously with the `.items()` method. [This](https://www.tutorialspoint.com/python/python_dictionary.htm) might help you."
   ]
  },
  {
   "cell_type": "code",
   "execution_count": 5,
   "metadata": {},
   "outputs": [
    {
     "name": "stdout",
     "output_type": "stream",
     "text": [
      "animal start with a vowel\n",
      "coffee does not start with a vowel\n",
      "python does not start with a vowel\n",
      "unit start with a vowel\n",
      "knowledge does not start with a vowel\n",
      "tread does not start with a vowel\n",
      "arise start with a vowel\n"
     ]
    }
   ],
   "source": [
    "for i, j in words.items():\n",
    "    if j == True:\n",
    "        print(i + ' start with a vowel')\n",
    "    else:\n",
    "        print(i + ' does not start with a vowel')"
   ]
  },
  {
   "cell_type": "markdown",
   "metadata": {},
   "source": [
    "<br>\n",
    "## Exercise Section 3.2: The punk API\n",
    "The [punk API](https://punkapi.com/) serves information about _beers_. It is a well made and well documented API which makes it great for learning about APIs. \n",
    "\n",
    "> **Ex. 3.2.1:** Read the documentation on the Punk API available [here](https://punkapi.com/documentation/v2). What is the server url (i.e. root endpoint) of the Punk API? Does it require authentication? Then use the Punk API to make a request for beers brewed before December, 2008 with an ABV of at least 8."
   ]
  },
  {
   "cell_type": "code",
   "execution_count": 6,
   "metadata": {},
   "outputs": [
    {
     "name": "stdout",
     "output_type": "stream",
     "text": [
      "[{\"id\":37,\"name\":\"Zephyr\",\"tagline\":\"There’s A Storm Brewing.\",\"first_brewed\":\"10/2008\",\"description\":\"A 9.2% Double IPA aged for 21 months in a 1965 Invergordon cask with 30 kg of fresh highland strawberries. This beer is a riot of whisky, caramel and strawberry, all tempered by a toe curling bitterness enducing rapture in all who taste it. Who needs champagne?\",\"image_url\":\"https://images.punkapi.com/v2/37.png\",\"abv\":12.5,\"ibu\":125,\"target_fg\":1016,\"target_og\":1087,\"ebc\":40,\"srm\":20,\"ph\":4.4,\"attenuation_level\":81.2,\"volume\":{\"value\":20,\"unit\":\"liters\"},\"boil_volume\":{\"value\":25,\"unit\":\"liters\"},\"method\":{\"mash_temp\":[{\"temp\":{\"value\":65,\"unit\":\"celsius\"},\"duration\":75}],\"fermentation\":{\"temp\":{\"value\":21,\"unit\":\"celsius\"}},\"twist\":\"Oak chips: 15g, Fresh strawberries: 3kg\"},\"ingredients\":{\"malt\":[{\"name\":\"Extra Pale\",\"amount\":{\"value\":6.3,\"unit\":\"kilograms\"}},{\"name\":\"Caramalt\",\"amount\":{\"value\":0.38,\"unit\":\"kilograms\"}},{\"name\":\"Crystal 150\",\"amount\":{\"value\":0.29,\"unit\":\"kilograms\"}}],\"hops\":[{\"name\":\"Columbus Extract\",\"amount\":{\"value\":31,\"unit\":\"grams\"},\"add\":\"start\",\"attribute\":\"bitter\"},{\"name\":\"Columbus\",\"amount\":{\"value\":19.5,\"unit\":\"grams\"},\"add\":\"start\",\"attribute\":\"bitter\"},{\"name\":\"Columbus\",\"amount\":{\"value\":19.5,\"unit\":\"grams\"},\"add\":\"middle\",\"attribute\":\"flavour\"},{\"name\":\"Centennial\",\"amount\":{\"value\":19.5,\"unit\":\"grams\"},\"add\":\"middle\",\"attribute\":\"flavour\"},{\"name\":\"Simcoe\",\"amount\":{\"value\":19.5,\"unit\":\"grams\"},\"add\":\"middle\",\"attribute\":\"flavour\"},{\"name\":\"Columbus\",\"amount\":{\"value\":19.5,\"unit\":\"grams\"},\"add\":\"end\",\"attribute\":\"flavour\"},{\"name\":\"Centennial\",\"amount\":{\"value\":19.5,\"unit\":\"grams\"},\"add\":\"end\",\"attribute\":\"flavour\"},{\"name\":\"Centennial\",\"amount\":{\"value\":115.5,\"unit\":\"grams\"},\"add\":\"dry hop\",\"attribute\":\"aroma\"},{\"name\":\"Columbus\",\"amount\":{\"value\":96,\"unit\":\"grams\"},\"add\":\"dry hop\",\"attribute\":\"aroma\"},{\"name\":\"Simcoe\",\"amount\":{\"value\":96,\"unit\":\"grams\"},\"add\":\"dry hop\",\"attribute\":\"aroma\"},{\"name\":\"Amarillo\",\"amount\":{\"value\":77,\"unit\":\"grams\"},\"add\":\"dry hop\",\"attribute\":\"aroma\"}],\"yeast\":\"Wyeast 1272 - American Ale II™\"},\"food_pairing\":[\"Poached eggs and smoked salmon\",\"Salt and pepper squid\",\"Key Lime Pie\"],\"brewers_tips\":\"Rack into a secondary fermenter and add your strawberries. Use a blow-off rather than an airlock as the fermentation can get pretty wild as the yeast starts using the sugar from the strawberries.\",\"contributed_by\":\"Sam Mason <samjbmason>\"},{\"id\":52,\"name\":\"Paradox Islay\",\"tagline\":\"Ubiquitous Imperial Stout.\",\"first_brewed\":\"04/2007\",\"description\":\"In 2006 James and Martin hijacked a beer dinner run by Michael Jackson, the acclaimed beer and whisky writer, and convinced him to taste one of their home brews. This was a defining moment in BrewDog prehistory, and that beer was the first incarnation of the ubiquitous Paradox. Aged in a variety of casks over the years, Paradox is dark, decadent and encapsulating. Can be enjoyed fresh; phenomenal when aged.\",\"image_url\":\"https://images.punkapi.com/v2/52.png\",\"abv\":10,\"ibu\":55,\"target_fg\":1014,\"target_og\":1090,\"ebc\":300,\"srm\":152,\"ph\":4.4,\"attenuation_level\":84.4,\"volume\":{\"value\":20,\"unit\":\"liters\"},\"boil_volume\":{\"value\":25,\"unit\":\"liters\"},\"method\":{\"mash_temp\":[{\"temp\":{\"value\":65,\"unit\":\"celsius\"},\"duration\":90}],\"fermentation\":{\"temp\":{\"value\":21,\"unit\":\"celsius\"}},\"twist\":\"Try ageing on oak chips, infusing with rum raisins, or vanilla pods\"},\"ingredients\":{\"malt\":[{\"name\":\"Extra Pale\",\"amount\":{\"value\":4.5,\"unit\":\"kilograms\"}},{\"name\":\"Caramalt\",\"amount\":{\"value\":0.55,\"unit\":\"kilograms\"}},{\"name\":\"Munich\",\"amount\":{\"value\":0.33,\"unit\":\"kilograms\"}},{\"name\":\"Flaked Oats\",\"amount\":{\"value\":1.35,\"unit\":\"kilograms\"}},{\"name\":\"Dark Crystal\",\"amount\":{\"value\":0.55,\"unit\":\"kilograms\"}},{\"name\":\"Carafa Special Malt Type 1\",\"amount\":{\"value\":0.18,\"unit\":\"kilograms\"}},{\"name\":\"Carafa Special Malt Type 3\",\"amount\":{\"value\":0.33,\"unit\":\"kilograms\"}}],\"hops\":[{\"name\":\"Columbus\",\"amount\":{\"value\":75,\"unit\":\"grams\"},\"add\":\"start\",\"attribute\":\"bitter\"},{\"name\":\"Columbus\",\"amount\":{\"value\":25,\"unit\":\"grams\"},\"add\":\"middle\",\"attribute\":\"flavour\"},{\"name\":\"Saaz\",\"amount\":{\"value\":25,\"unit\":\"grams\"},\"add\":\"end\",\"attribute\":\"flavour\"},{\"name\":\"First Gold\",\"amount\":{\"value\":25,\"unit\":\"grams\"},\"add\":\"end\",\"attribute\":\"flavour\"}],\"yeast\":\"Wyeast 1272 - American Ale II™\"},\"food_pairing\":[\"Ancho chilli beef taco\",\"Chocolate gateaux\",\"Rum poached pears with dark chocolate sauce\"],\"brewers_tips\":\"The beauty of this beer is in how brilliantly it lends itself to infusing or ageing. Experiment with different additions when the beer is ageing, taste it regularly to gauge its progress, and make sure you package it at its peak.\",\"contributed_by\":\"Sam Mason <samjbmason>\"},{\"id\":58,\"name\":\"Coffee Imperial Stout\",\"tagline\":\"Beats a Cup of Joe.\",\"first_brewed\":\"11/2008\",\"description\":\"This beer was released as both as \\\"Danish Beerhouse Coffee Imperial Stout\\\" and \\\"BrewDog Coffee Imperial Stout\\\". Deep, dark, roasted flavours make this a perfect Sunday brunch beer.\",\"image_url\":\"https://images.punkapi.com/v2/58.png\",\"abv\":9,\"ibu\":65,\"target_fg\":1019,\"target_og\":1080,\"ebc\":97,\"srm\":49,\"ph\":4.4,\"attenuation_level\":76,\"volume\":{\"value\":20,\"unit\":\"liters\"},\"boil_volume\":{\"value\":25,\"unit\":\"liters\"},\"method\":{\"mash_temp\":[{\"temp\":{\"value\":64,\"unit\":\"celsius\"},\"duration\":90}],\"fermentation\":{\"temp\":{\"value\":19,\"unit\":\"celsius\"}},\"twist\":\"Coffee added after boil. Aged on French oak chips., Dark muscovado sugar: 312.5g for 20mins\"},\"ingredients\":{\"malt\":[{\"name\":\"Extra Pale\",\"amount\":{\"value\":7.5,\"unit\":\"kilograms\"}},{\"name\":\"Dark Crystal\",\"amount\":{\"value\":0.63,\"unit\":\"kilograms\"}},{\"name\":\"Chocolate\",\"amount\":{\"value\":0.31,\"unit\":\"kilograms\"}},{\"name\":\"Roast Barley\",\"amount\":{\"value\":0.31,\"unit\":\"kilograms\"}}],\"hops\":[{\"name\":\"Chinook\",\"amount\":{\"value\":25,\"unit\":\"grams\"},\"add\":\"start\",\"attribute\":\"bitter\"},{\"name\":\"Galena\",\"amount\":{\"value\":25,\"unit\":\"grams\"},\"add\":\"start\",\"attribute\":\"bitter\"},{\"name\":\"Galena\",\"amount\":{\"value\":25,\"unit\":\"grams\"},\"add\":\"end\",\"attribute\":\"flavour\"},{\"name\":\"First Gold\",\"amount\":{\"value\":25,\"unit\":\"grams\"},\"add\":\"end\",\"attribute\":\"flavour\"},{\"name\":\"Coffee\",\"amount\":{\"value\":9.4,\"unit\":\"grams\"},\"add\":\"end\",\"attribute\":\"flavour\"},{\"name\":\"Coffee\",\"amount\":{\"value\":9.4,\"unit\":\"grams\"},\"add\":\"dry hop\",\"attribute\":\"aroma\"}],\"yeast\":\"Wyeast 1056 - American Ale™\"},\"food_pairing\":[\"Gooey chocolate brownies\",\"Chicken fried steak with cheesy mash\",\"Spicy chicken empanadas\"],\"brewers_tips\":\"Grind the coffee as if making an espresso to really get the most out of it.\",\"contributed_by\":\"Sam Mason <samjbmason>\"},{\"id\":149,\"name\":\"AB:03\",\"tagline\":\"Barrel-Aged Imperial Ale.\",\"first_brewed\":\"09/2008\",\"description\":\"This Abstrakt started life as a simple imperial Ale, but upon the addition of fresh Scottish raspberries and strawberries, and left to mature for 2 years in Invergordon whisky casks that had held whisky for over 40 years, this beer transcended into something new.\",\"image_url\":\"https://images.punkapi.com/v2/149.png\",\"abv\":10.5,\"ibu\":14,\"target_fg\":1013,\"target_og\":1093,\"ebc\":null,\"srm\":null,\"ph\":4.4,\"attenuation_level\":80,\"volume\":{\"value\":20,\"unit\":\"liters\"},\"boil_volume\":{\"value\":25,\"unit\":\"liters\"},\"method\":{\"mash_temp\":[{\"temp\":{\"value\":65,\"unit\":\"celsius\"},\"duration\":90}],\"fermentation\":{\"temp\":{\"value\":19,\"unit\":\"celsius\"}},\"twist\":\"Strawberries: 1kg, Raspberries: 1kg, Oak Chips: 75g\"},\"ingredients\":{\"malt\":[{\"name\":\"Extra Pale\",\"amount\":{\"value\":8,\"unit\":\"kilograms\"}}],\"hops\":[{\"name\":\"Magnum\",\"amount\":{\"value\":66.7,\"unit\":\"grams\"},\"add\":\"end\",\"attribute\":\"flavour\"}],\"yeast\":\"Wyeast 1056 - American Ale™\"},\"food_pairing\":[\"Haggis spring rolls\",\"Honey glazed duck breast\",\"Cranachan\"],\"brewers_tips\":\"Add your hops with five minutes of the boil left in a nod to the great lambic producers of Belgium.\",\"contributed_by\":\"Sam Mason <samjbmason>\"}]\n"
     ]
    }
   ],
   "source": [
    "import requests\n",
    "URL = 'https://api.punkapi.com/v2/beers?brewed_before=12-2008&abv_gt=8'\n",
    "\n",
    "response = requests.get(URL)\n",
    "response.ok\n",
    "\n",
    "print(response.text)"
   ]
  },
  {
   "cell_type": "markdown",
   "metadata": {},
   "source": [
    "> **Ex. 3.2.2:** What object type is the API's JSON response? What about the individual items in the container? Convert the response object to a suitable format and answer the following questions:\n",
    ">> 1) How many beers are in the JSON object?\n",
    ">>\n",
    ">> 2) Print the names of the beers in the JSON object using lower case characters.\n",
    ">>\n",
    ">> 3) Select the beer called Paradox Islay from the JSON object.\n",
    ">>\n",
    ">> 4) Which hop ingredients does the Paradox Islay contain?\n"
   ]
  },
  {
   "cell_type": "code",
   "execution_count": 7,
   "metadata": {},
   "outputs": [
    {
     "name": "stdout",
     "output_type": "stream",
     "text": [
      "zephyr\n",
      "paradox islay\n",
      "coffee imperial stout\n",
      "ab:03\n",
      "{'id': 52, 'name': 'Paradox Islay', 'tagline': 'Ubiquitous Imperial Stout.', 'first_brewed': '04/2007', 'description': 'In 2006 James and Martin hijacked a beer dinner run by Michael Jackson, the acclaimed beer and whisky writer, and convinced him to taste one of their home brews. This was a defining moment in BrewDog prehistory, and that beer was the first incarnation of the ubiquitous Paradox. Aged in a variety of casks over the years, Paradox is dark, decadent and encapsulating. Can be enjoyed fresh; phenomenal when aged.', 'image_url': 'https://images.punkapi.com/v2/52.png', 'abv': 10, 'ibu': 55, 'target_fg': 1014, 'target_og': 1090, 'ebc': 300, 'srm': 152, 'ph': 4.4, 'attenuation_level': 84.4, 'volume': {'value': 20, 'unit': 'liters'}, 'boil_volume': {'value': 25, 'unit': 'liters'}, 'method': {'mash_temp': [{'temp': {'value': 65, 'unit': 'celsius'}, 'duration': 90}], 'fermentation': {'temp': {'value': 21, 'unit': 'celsius'}}, 'twist': 'Try ageing on oak chips, infusing with rum raisins, or vanilla pods'}, 'ingredients': {'malt': [{'name': 'Extra Pale', 'amount': {'value': 4.5, 'unit': 'kilograms'}}, {'name': 'Caramalt', 'amount': {'value': 0.55, 'unit': 'kilograms'}}, {'name': 'Munich', 'amount': {'value': 0.33, 'unit': 'kilograms'}}, {'name': 'Flaked Oats', 'amount': {'value': 1.35, 'unit': 'kilograms'}}, {'name': 'Dark Crystal', 'amount': {'value': 0.55, 'unit': 'kilograms'}}, {'name': 'Carafa Special Malt Type 1', 'amount': {'value': 0.18, 'unit': 'kilograms'}}, {'name': 'Carafa Special Malt Type 3', 'amount': {'value': 0.33, 'unit': 'kilograms'}}], 'hops': [{'name': 'Columbus', 'amount': {'value': 75, 'unit': 'grams'}, 'add': 'start', 'attribute': 'bitter'}, {'name': 'Columbus', 'amount': {'value': 25, 'unit': 'grams'}, 'add': 'middle', 'attribute': 'flavour'}, {'name': 'Saaz', 'amount': {'value': 25, 'unit': 'grams'}, 'add': 'end', 'attribute': 'flavour'}, {'name': 'First Gold', 'amount': {'value': 25, 'unit': 'grams'}, 'add': 'end', 'attribute': 'flavour'}], 'yeast': 'Wyeast 1272 - American Ale II™'}, 'food_pairing': ['Ancho chilli beef taco', 'Chocolate gateaux', 'Rum poached pears with dark chocolate sauce'], 'brewers_tips': 'The beauty of this beer is in how brilliantly it lends itself to infusing or ageing. Experiment with different additions when the beer is ageing, taste it regularly to gauge its progress, and make sure you package it at its peak.', 'contributed_by': 'Sam Mason <samjbmason>'}\n",
      " \n",
      "[{'name': 'Columbus', 'amount': {'value': 75, 'unit': 'grams'}, 'add': 'start', 'attribute': 'bitter'}, {'name': 'Columbus', 'amount': {'value': 25, 'unit': 'grams'}, 'add': 'middle', 'attribute': 'flavour'}, {'name': 'Saaz', 'amount': {'value': 25, 'unit': 'grams'}, 'add': 'end', 'attribute': 'flavour'}, {'name': 'First Gold', 'amount': {'value': 25, 'unit': 'grams'}, 'add': 'end', 'attribute': 'flavour'}]\n"
     ]
    }
   ],
   "source": [
    "import json\n",
    "resp_json = response.json()\n",
    "len(resp_json)\n",
    "\n",
    "for k in resp_json:\n",
    "    print(k['name'].lower())\n",
    "    \n",
    "print(resp_json[1])\n",
    "print(\" \")\n",
    "print(resp_json[1]['ingredients']['hops'])"
   ]
  },
  {
   "cell_type": "markdown",
   "metadata": {},
   "source": [
    "> **Ex. 3.2.3:** Save the beers as a JSON file on your machine.\n",
    "\n",
    "> _Hint:_ you might want to take a look at the [json](https://docs.python.org/3/library/json.html) module.\n"
   ]
  },
  {
   "cell_type": "code",
   "execution_count": 8,
   "metadata": {},
   "outputs": [],
   "source": [
    "with open('beers.json', 'w') as f: \n",
    "    response_json_str = json.dumps(response.json())\n",
    "    f.write(response_json_str)"
   ]
  },
  {
   "cell_type": "markdown",
   "metadata": {},
   "source": [
    "<br>\n",
    "## Exercise Section 3.3: The DST API\n",
    "\n",
    "DST (Statistics Denmark) provide an API access to their aggregate data. For developers they supply a [console](https://api.statbank.dk/console) for testing. In this exercise we will first code up a simple script which can collect data from the DST API, and then introduce the [PyDST](https://kristianuruplarsen.github.io/PyDST/) package. \n",
    "\n",
    "> **Ex 3.3.1:** Use the API console to construct a GET request which retrieves the table FOLK1A split by quarter. The return should be in JSON format. We want all available dates.\n",
    ">\n",
    ">Then write a function `construct_link()` which takes as inputs: a table ID (e.g. `'FOLK1A'`) and a list of strings like `['var1=*', 'var2=somevalue']`. The function should return the proper URL for getting a dataset with the specified variables (e.g. in this case all levels of var1, but only where var2=somevalue).\n",
    "\n",
    "> _Hint:_ The time variable is called 'tid'. To select all available values, set the value-id to '*'. Spend a little time with the console to get a sense of how the URLs are constructed.\n"
   ]
  },
  {
   "cell_type": "code",
   "execution_count": 9,
   "metadata": {},
   "outputs": [
    {
     "name": "stdout",
     "output_type": "stream",
     "text": [
      "https://api.statbank.dk/v1/data/FOLK1A/JSONSTAT?Tid=*&K%C3%98N=*\n"
     ]
    }
   ],
   "source": [
    "def construct_link(table_id, specs):\n",
    "    URL = 'https://api.statbank.dk/v1/data/' + table_id\n",
    "    for i in specs:\n",
    "        URL += i\n",
    "    return URL\n",
    "table_id = 'FOLK1A'\n",
    "specs = ['/JSONSTAT','?Tid=*','&K%C3%98N=*']\n",
    "URL = construct_link(table_id,specs)\n",
    "print(URL)"
   ]
  },
  {
   "cell_type": "markdown",
   "metadata": {},
   "source": [
    "When executing the request in the console you should get a json file as output. Next lets write some code to load these json files directly into python. \n",
    "\n",
    "\n",
    "> **Ex. 3.3.2:** use the `requests` module (get it with `pip install requests`) and `construct_link()` to request birth data from the \"FOD\" table. Get all available years (variable \"Tid\"), but only female births (BARNKON=P) . Unpack the json payload and store the result. Wrap the whole thing in a function which takes an url as input and returns the corresponding output.\n",
    "\n",
    "> _Hint:_ The `requests.response` object has a `.json()` method. "
   ]
  },
  {
   "cell_type": "code",
   "execution_count": 10,
   "metadata": {},
   "outputs": [],
   "source": [
    "import json\n",
    "\n",
    "URL = construct_link('FOD',['/JSONSTAT','?Tid=*','&BARNKON=P'])\n",
    "\n",
    "data = requests.get(URL)\n",
    "data_json = data.json()"
   ]
  },
  {
   "cell_type": "markdown",
   "metadata": {},
   "source": [
    "> **Ex. 3.3.3:** Extract the number of girls born each year. Store the results as a list."
   ]
  },
  {
   "cell_type": "code",
   "execution_count": 11,
   "metadata": {},
   "outputs": [
    {
     "name": "stdout",
     "output_type": "stream",
     "text": [
      "[34996, 34771, 35260, 31533, 30055, 30161, 28909, 27941, 25972, 25595, 24821, 25228, 26284, 26878, 27142, 28520, 29876, 30813, 31353, 32914, 32760, 34027, 33885, 32819, 32899, 32116, 32341, 32652, 31961, 31109, 31441, 31539, 31459, 31580, 31267, 31507, 30557, 30946, 28984, 28131, 27283, 27616, 28357, 29833, 29930]\n"
     ]
    }
   ],
   "source": [
    "girls = list(data_json['dataset']['value'])\n",
    "print(girls)"
   ]
  },
  {
   "cell_type": "markdown",
   "metadata": {},
   "source": [
    "> ** Ex.3.3.4:** Repeat 3.3.2 and 3.3.3 but this time only get boy births (BARNKON=D). Store the numbers in a new list and use the `plot_births` (supplied below) function to plot the data. If you don't already have matplotlib installed run `pip install matplotlib`."
   ]
  },
  {
   "cell_type": "code",
   "execution_count": 12,
   "metadata": {},
   "outputs": [],
   "source": [
    "# Just run this once, do not change it.\n",
    "import matplotlib.pyplot as plt \n",
    "\n",
    "def plot_births(boys, girls):\n",
    "    \"\"\" Plots lineplot of the number of births split by gender.\n",
    "    \n",
    "    Args: \n",
    "        boys: a list of boy births by year\n",
    "        girls: a list of girl births by year\n",
    "    \"\"\"\n",
    "    if not len(boys) == len(girls):\n",
    "        raise ValueError('There must be the same number of observations for boys and girls')\n",
    "    \n",
    "    labels = ['{y}'.format(y=year) for year in range(1973,2018)]\n",
    "    \n",
    "    plt.plot(range(len(boys)), boys, color = 'blue', label = 'boys')\n",
    "    plt.plot(range(len(boys)), girls, color = 'red', label = 'girls')\n",
    "    plt.xticks([i for i in range(len(boys)) if i%4 == 0], [l for i,l in zip(range(len(boys)),labels) if i%4 == 0],\n",
    "               rotation = 'vertical')\n",
    "    plt.legend()\n",
    "    plt.show()"
   ]
  },
  {
   "cell_type": "code",
   "execution_count": 13,
   "metadata": {},
   "outputs": [
    {
     "name": "stdout",
     "output_type": "stream",
     "text": [
      "[36899, 36556, 36811, 33734, 31823, 31875, 30555, 29352, 27117, 27063, 26001, 26572, 27465, 28434, 29079, 30324, 31475, 32620, 33005, 34812, 34609, 35639, 35886, 34819, 34749, 34058, 33879, 34432, 33497, 32966, 33158, 33070, 32823, 33404, 32815, 33531, 32261, 32465, 30014, 29785, 28590, 29254, 29848, 31781, 31467]\n"
     ]
    },
    {
     "data": {
      "image/png": "[encoded data removed]",
      "text/plain": [
       "<Figure size 432x288 with 1 Axes>"
      ]
     },
     "metadata": {},
     "output_type": "display_data"
    }
   ],
   "source": [
    "URL = construct_link('FOD',['/JSONSTAT','?Tid=*','&BARNKON=D'])\n",
    "\n",
    "data = requests.get(URL)\n",
    "data_json = data.json()\n",
    "boys = list(data_json['dataset']['value'])\n",
    "print(boys)\n",
    "\n",
    "plot_births(boys,girls)"
   ]
  },
  {
   "cell_type": "markdown",
   "metadata": {},
   "source": [
    ">**(Bonus question) Ex. 3.3.5:** Go to [https://kristianuruplarsen.github.io/PyDST/](https://kristianuruplarsen.github.io/PyDST/) follow the installation instructions and import PyDST. Try to replicate the birth figure from 3.3.4 using PyDST. Use [the documentation](https://kristianuruplarsen.github.io/PyDST/connection) to learn how the package works.\n",
    "\n",
    "> _Hint:_ PyDST does not use json or dicts as its primary data format, instead it uses pandas DataFrames. When you install PyDST it will install pandas as a dependency. If this doesn't work simply run `pip install pandas` in your console. DataFrames are very intuitive to work with, for example accessing a column named 'name' is simply `data['name']` or `data.name`.\n",
    ">\n",
    "> In the next session you will learn more about pandas and DataFrames. If you are more comfortable with dicts, the data_response class has a `.dict` method you can use. "
   ]
  },
  {
   "cell_type": "code",
   "execution_count": 31,
   "metadata": {},
   "outputs": [
    {
     "name": "stdout",
     "output_type": "stream",
     "text": [
      "Getting metadata for table FOD\n",
      "Getting table FOD, variables are ['barnkon', 'tid']\n",
      "        values are {'barnkon': '*', 'tid': '*'}\n"
     ]
    },
    {
     "data": {
      "image/png": "[encoded data removed]",
      "text/plain": [
       "<Figure size 432x288 with 1 Axes>"
      ]
     },
     "metadata": {},
     "output_type": "display_data"
    }
   ],
   "source": [
    "import PyDST\n",
    "import pandas as pd\n",
    "import matplotlib.pyplot as plt \n",
    "conn = PyDST.connection(language = 'da')\n",
    "meta = conn.get_metadata('FOD')\n",
    "meta.variables\n",
    "resp = conn.get_data(\n",
    "                table_id = 'FOD',\n",
    "                variables = ['barnkon', 'tid'],\n",
    "                values = {'barnkon':'*', 'tid':'*'}\n",
    "                     )\n",
    "data = resp.df\n",
    "df = pd.DataFrame(data)\n",
    "select_girls = df.BARNKON == 'Piger'\n",
    "select_boys = df.BARNKON == 'Drenge'\n",
    "girls = df[select_girls]\n",
    "boys = df[select_boys]\n",
    "\n",
    "plot_births(boys['INDHOLD'], girls['INDHOLD'])"
   ]
  },
  {
   "cell_type": "code",
   "execution_count": null,
   "metadata": {},
   "outputs": [],
   "source": []
  }
 ],
 "metadata": {
  "kernelspec": {
   "display_name": "Python 3",
   "language": "python",
   "name": "python3"
  },
  "language_info": {
   "codemirror_mode": {
    "name": "ipython",
    "version": 3
   },
   "file_extension": ".py",
   "mimetype": "text/x-python",
   "name": "python",
   "nbconvert_exporter": "python",
   "pygments_lexer": "ipython3",
   "version": "3.6.5"
  }
 },
 "nbformat": 4,
 "nbformat_minor": 2
}
