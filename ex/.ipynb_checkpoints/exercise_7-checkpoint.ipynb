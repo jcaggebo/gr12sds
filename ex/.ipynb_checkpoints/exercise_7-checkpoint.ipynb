{
 "cells": [
  {
   "cell_type": "markdown",
   "metadata": {
    "ExecuteTime": {
     "end_time": "2017-08-23T15:30:03.634114Z",
     "start_time": "2017-08-23T15:30:03.629294Z"
    }
   },
   "source": [
    "# Exercise Set 7: Data structuring  3\n",
    "\n",
    "*Morning, August 16, Morning*\n",
    "\n",
    "In this Exercise Set we finalize our work with the weather data we started working on in Exercise Set 4. We will also study a dataset of traffic data from Copenhagen to iterate through the pandas workflow once more. "
   ]
  },
  {
   "cell_type": "code",
   "execution_count": 5,
   "metadata": {},
   "outputs": [],
   "source": [
    "%matplotlib inline \n",
    "\n",
    "import pandas as pd \n",
    "import matplotlib.pyplot as plt\n",
    "import matplotlib as mpl\n",
    "\n",
    "# Increases the plot size a little\n",
    "mpl.rcParams['figure.figsize'] = 11, 6\n"
   ]
  },
  {
   "cell_type": "markdown",
   "metadata": {},
   "source": [
    "## Exercise Section 7.1: Weather data, part 3\n",
    "We continue with the final part of three exercises on structuring weather data. In this exercise you must use the function for fetching and structuring weather data which you made in Exercise 6.1.5."
   ]
  },
  {
   "cell_type": "markdown",
   "metadata": {},
   "source": [
    "> **Ex. 7.1.1:** Plot the monthly max,min, mean, first and third quartiles for maximum temperature for our station with the ID _'ITE00100550'_ in 1864. \n",
    "\n",
    "> *Hint*: the method `describe` computes all these measures."
   ]
  },
  {
   "cell_type": "code",
   "execution_count": 6,
   "metadata": {},
   "outputs": [
    {
     "name": "stdout",
     "output_type": "stream",
     "text": [
      "Data for 1864 is downloaded... 3 to go!\n",
      "Data for 1865 is downloaded... 2 to go!\n",
      "Data for 1866 is downloaded... 1 to go!\n",
      "Data for 1867 is downloaded... 0 to go!\n"
     ]
    }
   ],
   "source": [
    "import numpy as np\n",
    "import re\n",
    "import pandas as pd\n",
    "import time\n",
    "def weather(years):\n",
    "    base_url = 'https://www1.ncdc.noaa.gov/pub/data/ghcn/daily/by_year/'\n",
    "    \n",
    "    # downloads all weather data\n",
    "    for year in years:\n",
    "        # composes the url\n",
    "        url = base_url + str(year) + '.csv.gz'\n",
    "        \n",
    "        # reads the file from the url\n",
    "        df = pd.read_csv(url,\n",
    "                         compression = 'gzip',\n",
    "                         header = None)\n",
    "        \n",
    "        # selects only the relevant columns and replaces the indecies with column names\n",
    "        df = df.iloc[:,:4]\n",
    "        COLS = ['station_identifier', 'date', 'observation_type', 'observation_value']\n",
    "        df.columns = COLS\n",
    "        \n",
    "        # adjusts the observation value\n",
    "        df['observation_value'] = df['observation_value']/10 \n",
    "\n",
    "        # selects only the observation for the maximum temperature\n",
    "        select_type = df.observation_type == 'TMAX'\n",
    "        df_select = df[select_type].copy()\n",
    "\n",
    "        # conversion from celcius to farenheit\n",
    "        df_select['TMAX_F'] = 32 + 1.8*df_select['observation_value']\n",
    "\n",
    "        # sort by date\n",
    "        df_select = df_select.sort_values(by = 'date', ascending = True)\n",
    "        \n",
    "        # converts integer to date time\n",
    "        df_select['date'] = pd.to_datetime(df_select['date'] , format = '%Y%m%d')\n",
    "        \n",
    "        # creates new variable for month\n",
    "        df_select['month'] = df_select['date'].dt.month\n",
    "        \n",
    "        # selects the country code\n",
    "        df_select['country_code'] = df_select['station_identifier'].apply(lambda i: re.sub(\"[^a-zA-Z]*\", '', i))\n",
    "        \n",
    "        # saves the file\n",
    "        rel_path = str(year) + '.csv'\n",
    "        df_select.to_csv(rel_path,index=False)\n",
    "        \n",
    "        # parses for 2 seconds such that we don't get kicked off\n",
    "        print('Data for ' + str(year) + ' is downloaded... ' + str(years[-1] - year) + ' to go!')\n",
    "        time.sleep(2)\n",
    "\n",
    "# downloads datasets for the selected years\n",
    "years = list(range(1864,1868))\n",
    "weather(years) "
   ]
  },
  {
   "cell_type": "code",
   "execution_count": 7,
   "metadata": {},
   "outputs": [
    {
     "name": "stdout",
     "output_type": "stream",
     "text": [
      "   station_identifier        date observation_type  observation_value  TMAX_F  \\\n",
      "0         ITE00100550  1864-01-01             TMAX                1.0   33.80   \n",
      "27        ITE00100550  1864-01-02             TMAX                0.8   33.44   \n",
      "42        ITE00100550  1864-01-03             TMAX               -2.8   26.96   \n",
      "56        ITE00100550  1864-01-04             TMAX                0.0   32.00   \n",
      "71        ITE00100550  1864-01-05             TMAX               -1.9   28.58   \n",
      "\n",
      "    month country_code  \n",
      "0       1          ITE  \n",
      "27      1          ITE  \n",
      "42      1          ITE  \n",
      "56      1          ITE  \n",
      "71      1          ITE  \n"
     ]
    },
    {
     "data": {
      "text/plain": [
       "<matplotlib.axes._subplots.AxesSubplot at 0x1a18886048>"
      ]
     },
     "execution_count": 7,
     "metadata": {},
     "output_type": "execute_result"
    },
    {
     "data": {
      "image/png": "[encoded data removed]",
      "text/plain": [
       "<Figure size 432x288 with 1 Axes>"
      ]
     },
     "metadata": {},
     "output_type": "display_data"
    }
   ],
   "source": [
    "import seaborn as sns\n",
    "df = pd.read_csv('1864.csv', sep=',')\n",
    "df_select = df['ITE00100550' == df.station_identifier].copy()\n",
    "print(df_select.head())\n",
    "\n",
    "split_var = 'month'\n",
    "apply_var = 'TMAX_F'\n",
    "apply_fcts= ['mean','max','min','25%','75%']\n",
    "df_select\\\n",
    "    .groupby(split_var)\\\n",
    "    [apply_var]\\\n",
    "    .describe()\\\n",
    "    .plot(y = apply_fcts)\n",
    "\n"
   ]
  },
  {
   "cell_type": "markdown",
   "metadata": {},
   "source": [
    "> **Ex. 7.1.2:** Get the processed data from years 1864-1867 as a list of DataFrames. Convert the list into a single DataFrame by concatenating vertically. "
   ]
  },
  {
   "cell_type": "code",
   "execution_count": 8,
   "metadata": {},
   "outputs": [
    {
     "name": "stdout",
     "output_type": "stream",
     "text": [
      "  station_identifier        date observation_type  observation_value  TMAX_F  \\\n",
      "0        ITE00100550  1864-01-01             TMAX                1.0   33.80   \n",
      "1        SZ000006717  1864-01-01             TMAX               -8.2   17.24   \n",
      "2        UK000056225  1864-01-01             TMAX                0.5   32.90   \n",
      "3        UK000047811  1864-01-01             TMAX                5.9   42.62   \n",
      "4        AU000005901  1864-01-01             TMAX               -5.0   23.00   \n",
      "\n",
      "   month country_code  \n",
      "0      1          ITE  \n",
      "1      1           SZ  \n",
      "2      1           UK  \n",
      "3      1           UK  \n",
      "4      1           AU  \n"
     ]
    },
    {
     "data": {
      "text/plain": [
       "pandas.core.frame.DataFrame"
      ]
     },
     "execution_count": 8,
     "metadata": {},
     "output_type": "execute_result"
    }
   ],
   "source": [
    "years = list(range(1864,1868))\n",
    "df_concat = pd.DataFrame([])\n",
    "for year in years:\n",
    "    file = str(year)+'.csv'\n",
    "    df_year = pd.read_csv(file, sep = ',')\n",
    "    df_concat = pd.concat([df_concat, df_year])\n",
    "\n",
    "print(df_concat.head())\n",
    "type(df_concat)"
   ]
  },
  {
   "cell_type": "markdown",
   "metadata": {},
   "source": [
    "> **Ex. 7.1.3:** Parse the station location data which you can find at https://www1.ncdc.noaa.gov/pub/data/ghcn/daily/ghcnd-stations.txt. Merge station locations onto the weather data spanning 1864-1867.  \n",
    "\n",
    "> _Hint:_ The location data have the folllowing format, \n",
    "\n",
    "```\n",
    "------------------------------\n",
    "Variable   Columns   Type\n",
    "------------------------------\n",
    "ID            1-11   Character\n",
    "LATITUDE     13-20   Real\n",
    "LONGITUDE    22-30   Real\n",
    "ELEVATION    32-37   Real\n",
    "STATE        39-40   Character\n",
    "NAME         42-71   Character\n",
    "GSN FLAG     73-75   Character\n",
    "HCN/CRN FLAG 77-79   Character\n",
    "WMO ID       81-85   Character\n",
    "------------------------------\n",
    "```\n",
    "\n",
    "> *Hint*: The station information has fixed width format - does there exist a pandas reader for that?"
   ]
  },
  {
   "cell_type": "code",
   "execution_count": 9,
   "metadata": {},
   "outputs": [
    {
     "name": "stdout",
     "output_type": "stream",
     "text": [
      "  station_identifier               location\n",
      "0        ACW00011604  ST JOHNS COOLIDGE FLD\n",
      "1        ACW00011647               ST JOHNS\n",
      "2        AE000041196    SHARJAH INTER. AIRP\n",
      "3        AEM00041194             DUBAI INTL\n",
      "4        AEM00041217         ABU DHABI INTL\n"
     ]
    }
   ],
   "source": [
    "url = 'https://www1.ncdc.noaa.gov/pub/data/ghcn/daily/ghcnd-stations.txt'\n",
    "\n",
    "df_txt = pd.read_fwf(url, header = None)\n",
    "df_txt = df_txt.loc[:,[0,4]]\n",
    "df_txt.columns = ['station_identifier','location']\n",
    "print(df_txt.head(5))"
   ]
  },
  {
   "cell_type": "code",
   "execution_count": 10,
   "metadata": {},
   "outputs": [
    {
     "name": "stdout",
     "output_type": "stream",
     "text": [
      "  station_identifier        date observation_type  observation_value  TMAX_F  \\\n",
      "0        ITE00100550  1864-01-01             TMAX                1.0   33.80   \n",
      "1        SZ000006717  1864-01-01             TMAX               -8.2   17.24   \n",
      "2        UK000056225  1864-01-01             TMAX                0.5   32.90   \n",
      "3        UK000047811  1864-01-01             TMAX                5.9   42.62   \n",
      "4        AU000005901  1864-01-01             TMAX               -5.0   23.00   \n",
      "\n",
      "   month country_code                 location  \n",
      "0      1          ITE                  BOLOGNA  \n",
      "1      1           SZ  COL DU GRAND ST-BERNARD  \n",
      "2      1           UK                   OXFORD  \n",
      "3      1           UK                   ARMAGH  \n",
      "4      1           AU                     WIEN  \n"
     ]
    }
   ],
   "source": [
    "df_txt = pd.DataFrame(df_txt)\n",
    "\n",
    "df_merge = pd.merge(df_concat, df_txt, how = 'left', left_on= 'station_identifier', right_on = 'station_identifier')\n",
    "print(df_merge.head())"
   ]
  },
  {
   "cell_type": "markdown",
   "metadata": {},
   "source": [
    "## Exercise Section 7.2: Traffic data in Copenhagen\n",
    "\n",
    "In this second part of exercise set 7 you will be working with traffic data from Copenhagen Municipality.\n",
    "\n",
    "The municipality have made the data openly available through the [opendata.dk](http://www.opendata.dk/) platform. We will use the data from traffic counters to construct a dataset of hourly traffic. We will use this data to get basic insights on the development in traffic over time and relate it to weather. The gist here is to practice a very important skill in Data Science: being able to quickly fetch data from the web and structure it so that you can work with it. Scraping usually gets a bit more advanced than what we will do today, but the following exercises should give you a taste for how it works. The bulk of these exercise, however, revolve around using the Pandas library to structure and analyze data."
   ]
  },
  {
   "cell_type": "markdown",
   "metadata": {},
   "source": [
    "### Part 7.2.a: getting some data to work with\n",
    "\n",
    "Hence follows a simple scraping exercise where you (1) collect urls for datasets in the webpage listing data on traffic counters and (2) use these urls to load the data into one dataframe.\n",
    "\n",
    "> **Ex. 7.2.1:** Using the requests module, extract the html markup of the webpage data.kk.dk/dataset/faste-trafiktaellinger and store it as a string in a new variable."
   ]
  },
  {
   "cell_type": "code",
   "execution_count": null,
   "metadata": {},
   "outputs": [],
   "source": [
    "import requests\n",
    "\n",
    "url = 'https://data.kk.dk/dataset/faste-trafiktaellinger'\n",
    "con = requests.get(url)\n",
    "\n",
    "html = con.text\n",
    "\n",
    "print(html)"
   ]
  },
  {
   "cell_type": "markdown",
   "metadata": {},
   "source": [
    "> **Ex. 7.2.2:** Using the re module, extract a list of all the urls in the html string and store them in a new variable.\n",
    "\n",
    "> _Hint:_ Try using the re.findall method. You may want to Google around to figure out how to do this. Protip: searching for something along the lines of \"extract all links in html regex python\" and hitting the first StackOverflow link will probably get you farther than reading elaborate documentation."
   ]
  },
  {
   "cell_type": "code",
   "execution_count": null,
   "metadata": {},
   "outputs": [],
   "source": [
    "import re\n",
    "\n",
    "urls = re.findall('http[s]?://(?:[a-zA-Z]|[0-9]|[$-_@.&+]|[!*\\(\\),]|(?:%[0-9a-fA-F][0-9a-fA-F]))+', html)\n",
    "print(len(urls))\n",
    "print(urls)"
   ]
  },
  {
   "cell_type": "markdown",
   "metadata": {},
   "source": [
    "> **Ex. 7.2.3:** Create a new variable that only contains the links that point to downloadable traffic data sheets. \n",
    "\n",
    "> _Hint:_ You want to filter the results from above. For example to only include urls with the term 'download' in them."
   ]
  },
  {
   "cell_type": "code",
   "execution_count": null,
   "metadata": {},
   "outputs": [],
   "source": [
    "url_select = np.array(['download' in url for url in urls])\n",
    "urls_np = np.array(urls)\n",
    "urls_select = list(urls_np[url_select])\n",
    "print(len(urls_select))"
   ]
  },
  {
   "cell_type": "markdown",
   "metadata": {},
   "source": [
    "> **Ex. 7.2.4:** Using pd.read_excel method, load the datasets into a list. Your resulting variable should hold a list of Pandas dataframes.\n",
    "\n",
    "> _Hint:_ you may want to set the skiprows= keyword argument. "
   ]
  },
  {
   "cell_type": "code",
   "execution_count": null,
   "metadata": {},
   "outputs": [],
   "source": [
    "import pandas as pd\n",
    "\n",
    "df_list = []\n",
    "\n",
    "for link in urls_select:\n",
    "    df = pd.read_excel(link)\n",
    "    cols = list(df.iloc[9,:])\n",
    "    df.columns = cols\n",
    "    df_list.append(df)"
   ]
  },
  {
   "cell_type": "markdown",
   "metadata": {},
   "source": [
    "> **Ex. 7.2.5:** Merge the list of dataframes into a single dataframe."
   ]
  },
  {
   "cell_type": "code",
   "execution_count": null,
   "metadata": {},
   "outputs": [],
   "source": [
    "reduce(lambda x, y: pd.merge(x, y, on = 'Vej_Id'), df_list)"
   ]
  },
  {
   "cell_type": "code",
   "execution_count": 62,
   "metadata": {},
   "outputs": [
    {
     "data": {
      "text/plain": [
       "['Vej-Id',\n",
       " 'Vejnavn',\n",
       " 'Spor',\n",
       " '(UTM32)',\n",
       " '(UTM32)',\n",
       " 'Dato',\n",
       " 'kl.00-01',\n",
       " 'kl.01-02',\n",
       " 'kl.02-03',\n",
       " 'kl.03-04',\n",
       " 'kl.04-05',\n",
       " 'kl.05-06',\n",
       " 'kl.06-07',\n",
       " 'kl.07-08',\n",
       " 'kl.08-09',\n",
       " 'kl.09-10',\n",
       " 'kl.10-11',\n",
       " 'kl.11-12',\n",
       " 'kl.12-13',\n",
       " 'kl.13-14',\n",
       " 'kl.14-15',\n",
       " 'kl.15-16',\n",
       " 'kl.16-17',\n",
       " 'kl.17-18',\n",
       " 'kl.18-19',\n",
       " 'kl.19-20',\n",
       " 'kl.20-21',\n",
       " 'kl.21-22',\n",
       " 'kl.22-23',\n",
       " 'kl.23-24']"
      ]
     },
     "execution_count": 62,
     "metadata": {},
     "output_type": "execute_result"
    }
   ],
   "source": [
    "df = df_list[0].copy()\n",
    "cols = list(df.iloc[9,:])\n",
    "cols"
   ]
  },
  {
   "cell_type": "markdown",
   "metadata": {},
   "source": [
    "### Part 7.2.b Structuring your data\n",
    "\n",
    "If you successfully completed the previous part, you should now have a dataframe with about 183.397 rows (if your number of rows is close but not the same, worry not—it matters little in the following). Well done! But the data is still in no shape for analysis, so we must clean it up a little.\n",
    "\n",
    "161.236 rows (and 30 columns) is a lot of data. ~3.3 MB by my back-of-the-envelope calculations, so not \"Big Data\", but still enough to make your CPU heat up if you don't use it carefully. Pandas is built to handle fairly large dataframes and has advanced functionality to perform very fast operations even when the size of your data grows huge. So instead of working with basic Python we recommend working pandas built-in procedures as they are constructed to be fast on dataframes.\n",
    "\n",
    "Nerd fact: the reason pandas is much faster than pure Python is that dataframes access a lower level programming languages (namely C, C++) which are multiple times faster than Python. The reason it is faster is that it has a higher level of explicitness and thus is more difficult to learn and navigate.\n",
    "\n",
    "> **Ex. 7.2.6:** Reset the row indices of your dataframe so the first index is 0 and the last is whatever the number of rows your dataframe has. Also drop the column named 'index' and the one named `Spor`."
   ]
  },
  {
   "cell_type": "code",
   "execution_count": null,
   "metadata": {},
   "outputs": [],
   "source": [
    "# [Answer to Ex. 7.2.6]"
   ]
  },
  {
   "cell_type": "markdown",
   "metadata": {},
   "source": [
    "> **Ex. 7.2.7:** Rename variables from Danish to English using the dictionary below.\n",
    "\n",
    "```python \n",
    "dk_to_uk = {\n",
    "    'Vejnavn':'road_name',\n",
    "    '(UTM32)':'UTM32_north',\n",
    "    '(UTM32).1':'UTM32_east',\n",
    "    'Dato':'date',\n",
    "    'Vej-Id':'road_id'\n",
    "}\n",
    "```"
   ]
  },
  {
   "cell_type": "code",
   "execution_count": null,
   "metadata": {},
   "outputs": [],
   "source": [
    "# [Answer to Ex. 7.2.7]"
   ]
  },
  {
   "cell_type": "markdown",
   "metadata": {},
   "source": [
    "Python is quite efficient. For example, when you create a new dataframe by manipulating an old one, Python notices that—apart from some minor changes—these two objects are almost the same. Since memory is a precious resource, Python will represent the values in the new dataframe as references to the variables in the old dataset. This is great for performance, but if you for whatever reason change some of the values in your old dataframe, values in the new one will also change—and we don't want that! Luckily, we can break this dependency.\n",
    "\n",
    "> **Ex. 7.2.8:** Break the dependencies of the dataframe that resulted from Ex. 7.2.7 using the `.copy` method. Delete all other dataframes."
   ]
  },
  {
   "cell_type": "code",
   "execution_count": null,
   "metadata": {},
   "outputs": [],
   "source": [
    "# [Answer to Ex. 7.2.8]"
   ]
  },
  {
   "cell_type": "markdown",
   "metadata": {},
   "source": [
    "Once you have structured appropriately, something that you will want to do again and again is selecting subsets of the data. Specifically, it means that you select specific rows in the dataset based on some column values.\n",
    "\n",
    ">**Ex. 7.2.9:** Create a new column in the dataframe called total that is True when the last letter of road_id is T and otherwise False.\n",
    "\n",
    "> _Hint:_ you will need the `pd.Series.str` attribute for this."
   ]
  },
  {
   "cell_type": "code",
   "execution_count": null,
   "metadata": {},
   "outputs": [],
   "source": [
    "# [Answer to Ex. 7.2.9]"
   ]
  },
  {
   "cell_type": "markdown",
   "metadata": {},
   "source": [
    "> **Ex. 7.2.10:** Select rows where total is True. Delete all the remaining observations."
   ]
  },
  {
   "cell_type": "code",
   "execution_count": null,
   "metadata": {},
   "outputs": [],
   "source": [
    "# [Answer to Ex. 7.2.10]"
   ]
  },
  {
   "cell_type": "markdown",
   "metadata": {},
   "source": [
    "> **Ex. 7.2.11:** Make two datasets based on the lists of columns below. Call the dataset with spatial columns data_geo and the other data.\n",
    "\n",
    "```python\n",
    "# Columns for `geo_data`, stored in `geo_columns`\n",
    "spatial_columns = ['road_name', 'UTM32_north', 'UTM32_east']\n",
    "\n",
    "# Columns for `data`, stored in `select_columns`\n",
    "hours = ['kl.{}-{}'.format(str(h).zfill(2), str(h+1).zfill(2)) for h in range(24)]\n",
    "select_columns = ['road_name', 'date'] + hours\n",
    "```"
   ]
  },
  {
   "cell_type": "code",
   "execution_count": null,
   "metadata": {},
   "outputs": [],
   "source": [
    "# [Answer to Ex. 7.2.11]"
   ]
  },
  {
   "cell_type": "markdown",
   "metadata": {},
   "source": [
    "> **Ex. 7.2.12:** Drop the duplicate rows in data_geo."
   ]
  },
  {
   "cell_type": "code",
   "execution_count": null,
   "metadata": {},
   "outputs": [],
   "source": [
    "# [Answer to Ex. 7.2.12]"
   ]
  },
  {
   "cell_type": "markdown",
   "metadata": {},
   "source": [
    "**Formatting: wide and narrow format**\n",
    "\n",
    "When talking about two-dimensional data (matrices, tables or dataframes, we can call it many things), we can either say that it is in wide or long format (see explanation here, \"wide\" and \"long\" are used interchangably). In Pandas we can use the commands stack and unstack to move between these formats.\n",
    "\n",
    "The wide format has the advantage that it often requires less storage and is easier to read when printed. On the other hand the long format can be easier for modelling, because each observation has its own row. Turns out that the latter is what we most often need.\n",
    "\n",
    "> **Ex. 7.2.13:** Turn the dataset from wide to long so hourly data is now vertically stacked. Store this dataset in a dataframe called data. Name the column with hourly information hour_period. Your resulting dataframe should look something like this.\n",
    "\n",
    "> _Hint:_ pandas' melt function may be of use."
   ]
  },
  {
   "cell_type": "code",
   "execution_count": null,
   "metadata": {},
   "outputs": [],
   "source": [
    "# [Answer to Ex. 7.2.13]"
   ]
  },
  {
   "cell_type": "markdown",
   "metadata": {},
   "source": [
    "**Categorical data**\n",
    "\n",
    "Categorical data can contain Python objects, usually strings. These are smart if you have variables with string observations that are long and often repeated, e.g. with road names.\n",
    "\n",
    "> **Ex. 7.2.14:** Use the `.astype` method to convert the type of the road_name column to categorical."
   ]
  },
  {
   "cell_type": "code",
   "execution_count": null,
   "metadata": {},
   "outputs": [],
   "source": [
    "# [Answer to Ex. 7.2.14]"
   ]
  },
  {
   "cell_type": "markdown",
   "metadata": {},
   "source": [
    "### Structure temporal data\n",
    "\n",
    "Pandas has native support for working with temporal data. This is handy as much 'big data' often has time stamps which we can make Pandas aware of. Once we have encoded temporal data it can be used to extract information such as the hour, second etc.\n",
    "\n",
    "> **Ex. 7.2.15:** Create a new column called hour which contains the hour-of-day for each row. "
   ]
  },
  {
   "cell_type": "code",
   "execution_count": null,
   "metadata": {},
   "outputs": [],
   "source": [
    "# [Answer to Ex. 7.2.15]"
   ]
  },
  {
   "cell_type": "markdown",
   "metadata": {},
   "source": [
    ">**Ex. 7.2.16:** Create a new column called time, that contains the time of the row in datetime format. Delete the old temporal columns (hour, hour_period, date) to save memory.\n",
    "\n",
    "> _Hint:_ try making an intermediary series of strings that has all temporal information for the row; then use pandas to_datetime function where you can specify the format of the date string."
   ]
  },
  {
   "cell_type": "code",
   "execution_count": null,
   "metadata": {},
   "outputs": [],
   "source": [
    "# [Answer to Ex. 7.2.16]"
   ]
  },
  {
   "cell_type": "markdown",
   "metadata": {},
   "source": [
    "> **Ex. 7.2.17:** Using your time column make a new column called weekday which stores the weekday (in values between 0 and 6) of the corresponding datetime.\n",
    "\n",
    "> _Hint:_ try using the dt method for the series called time; dt has some relevant methods itself."
   ]
  },
  {
   "cell_type": "code",
   "execution_count": null,
   "metadata": {},
   "outputs": [],
   "source": [
    "# [Answer to Ex. 7.2.17]"
   ]
  },
  {
   "cell_type": "markdown",
   "metadata": {},
   "source": [
    "### Statistical descriptions of traffic data\n",
    "\n",
    "> **Ex. 7.2.18:** Print the \"descriptive statistics\" of the traffic column. Also show a kernel density estimate of the values.\n",
    "\n",
    "> _Hint:_ Use the describe method of pandas dataframes for the first task. Use seaborn for the second. "
   ]
  },
  {
   "cell_type": "code",
   "execution_count": null,
   "metadata": {},
   "outputs": [],
   "source": [
    "# [Answer to Ex. 7.2.18]"
   ]
  },
  {
   "cell_type": "markdown",
   "metadata": {},
   "source": [
    "> **Ex. 7.2.19:** Which road has the most average traffic?"
   ]
  },
  {
   "cell_type": "code",
   "execution_count": null,
   "metadata": {},
   "outputs": [],
   "source": [
    "# [Answer to Ex. 7.2.19]"
   ]
  },
  {
   "cell_type": "markdown",
   "metadata": {},
   "source": [
    "> **Ex. 7.2.20:** Compute annual, average road traffic during day hours (9-17). Which station had the least traffic in 2013? Which station has seen highest growth in traffic from 2013 to 2014?"
   ]
  },
  {
   "cell_type": "code",
   "execution_count": 58,
   "metadata": {},
   "outputs": [],
   "source": [
    "# [Answer to Ex. 7.2.19]"
   ]
  }
 ],
 "metadata": {
  "kernelspec": {
   "display_name": "Python 3",
   "language": "python",
   "name": "python3"
  },
  "language_info": {
   "codemirror_mode": {
    "name": "ipython",
    "version": 3
   },
   "file_extension": ".py",
   "mimetype": "text/x-python",
   "name": "python",
   "nbconvert_exporter": "python",
   "pygments_lexer": "ipython3",
   "version": "3.6.5"
  },
  "nav_menu": {},
  "toc": {
   "navigate_menu": true,
   "number_sections": false,
   "sideBar": true,
   "threshold": 6,
   "toc_cell": false,
   "toc_section_display": "block",
   "toc_window_display": true
  }
 },
 "nbformat": 4,
 "nbformat_minor": 2
}
