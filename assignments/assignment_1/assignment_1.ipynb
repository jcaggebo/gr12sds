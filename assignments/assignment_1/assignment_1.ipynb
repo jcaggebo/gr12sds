{
 "cells": [
  {
   "cell_type": "markdown",
   "metadata": {},
   "source": [
    "# Mandatory Assignment 1\n",
    "\n",
    "This is the first of two mandatory assignments which must be completed during the course. First some practical information:\n",
    "\n",
    "* When is the assignment due?: **23:59, Sunday, August 19, 2018.**\n",
    "* How do you grade the assignment?: You will **peergrade** each other as primary grading. \n",
    "* Must I hand-in as a group?: **yes**\n",
    "\n",
    "The assigment consist of one to three problems from each of the exercise sets you have solved so far (excluding Exercise Set 1). We've tried to select problems which are self contained, but it might be nessecary to solve some of the previous exercises in each set to fully answer the problems in this assignment.\n",
    "\n",
    "## Problems from Exercise Set 2:\n",
    "\n",
    "> **Ex. 2.2**: Make two lists. The first should be numbered. The second should be unnumbered and contain at least one sublevel. "
   ]
  },
  {
   "cell_type": "code",
   "execution_count": null,
   "metadata": {},
   "outputs": [],
   "source": [
    "# [Answer to Ex. 2.2 here] (convert to markdown cell)"
   ]
  },
  {
   "cell_type": "markdown",
   "metadata": {},
   "source": [
    "## Problems from Exercise set 3:\n",
    "\n",
    "> **Ex. 3.1.3:** Let `l1 = ['r ', 'Is', '>', ' < ', 'g ', '?']`. Create from `l1` the sentence \"Is r > g?\" using your knowledge about string formatting. Make sure there is only one space in between worlds.\n",
    ">\n",
    ">> _Hint:_ You should be able to combine the above informations to solve this exercise."
   ]
  },
  {
   "cell_type": "code",
   "execution_count": 3,
   "metadata": {},
   "outputs": [
    {
     "name": "stdout",
     "output_type": "stream",
     "text": [
      "Is r > g?\n"
     ]
    }
   ],
   "source": [
    "ll = ['r ', 'Is', '>', ' < ', 'g ', '?']\n",
    "\n",
    "sentence = ll[1]+' '+ll[0]+ll[2]+' '+ll[-2].strip()+ll[-1]\n",
    "\n",
    "print(sentence)"
   ]
  },
  {
   "cell_type": "markdown",
   "metadata": {},
   "source": [
    "> **Ex. 3.1.4**: Create an empty dictionary `words` using the `dict()`function. Then add each of the words in `['animal', 'coffee', 'python', 'unit', 'knowledge', 'tread', 'arise']` as a key, with the value being a boolean indicator for whether the word begins with a vowel. The results should look like `{'bacon': False, 'asynchronous': True ...}`\n",
    ">\n",
    ">> _Hint:_ You might want co first construct a function that asseses whether a given word begins with a vowel or not."
   ]
  },
  {
   "cell_type": "code",
   "execution_count": 5,
   "metadata": {},
   "outputs": [
    {
     "name": "stdout",
     "output_type": "stream",
     "text": [
      "[True, False, False, True, False, False, True]\n",
      "{'animal': True, 'coffee': False, 'python': False, 'unit': True, 'knowledge': False, 'tread': False, 'arise': True}\n"
     ]
    }
   ],
   "source": [
    "keys = ['animal', 'coffee', 'python', 'unit', 'knowledge', 'tread', 'arise']\n",
    "vowels = 'aeuioy'\n",
    "values = [key[0] in vowels for key in keys]\n",
    "print(values)\n",
    "\n",
    "words = dict(zip(keys,values))\n",
    "print(words)"
   ]
  },
  {
   "cell_type": "markdown",
   "metadata": {},
   "source": [
    "> **Ex. 3.3.2:** use the `requests` module (get it with `pip install requests`) and `construct_link()` to request birth data from the \"FOD\" table. Get all available years (variable \"Tid\"), but only female births (BARNKON=P) . Unpack the json payload and store the result. Wrap the whole thing in a function which takes an url as input and returns the corresponding output.\n",
    ">\n",
    ">> _Hint:_ The `requests.response` object has a `.json()` method. \n",
    ">\n",
    ">> _Note:_ you wrote `construct_link()` in 3.3.1, if you didn't heres the link you need to get: `https://api.statbank.dk/v1/data/FOLK1A/JSONSTAT?lang=en&Tid=*`"
   ]
  },
  {
   "cell_type": "code",
   "execution_count": 10,
   "metadata": {},
   "outputs": [],
   "source": [
    "import json\n",
    "import requests\n",
    "# construct_link from 3.3.1\n",
    "def construct_link(table_id, specs):\n",
    "    url = 'https://api.statbank.dk/v1/data/' + table_id\n",
    "    for i in specs:\n",
    "        url += i\n",
    "    return url\n",
    "\n",
    "# inputs for construct link\n",
    "table_id = 'FOD'\n",
    "specs = ['/JSONSTAT','?Tid=*','&BARNKON=P']\n",
    "\n",
    "# function for unpacking json\n",
    "def unpack_json(url):\n",
    "    data = requests.get(url)\n",
    "    data_json = data.json()\n",
    "    return data_json\n",
    "\n",
    "url = construct_link(table_id,specs)\n",
    "json = unpack_json(url)"
   ]
  },
  {
   "cell_type": "markdown",
   "metadata": {},
   "source": [
    "## Problems from exercise set 4\n"
   ]
  },
  {
   "cell_type": "code",
   "execution_count": 20,
   "metadata": {},
   "outputs": [],
   "source": [
    "import numpy as np\n",
    "import pandas as pd"
   ]
  },
  {
   "cell_type": "markdown",
   "metadata": {},
   "source": [
    "> **Ex. 4.1.1:** Use Pandas' CSV reader to fetch  daily data weather from 1864 for various stations - available [here](https://www1.ncdc.noaa.gov/pub/data/ghcn/daily/by_year/). \n",
    ">\n",
    ">> *Hint 1*: for compressed files you may need to specify the keyword `compression`.\n",
    ">\n",
    ">> *Hint 2*: keyword `header` can be specified as the CSV has no column names.\n",
    ">\n",
    ">> *Hint 3*: Specify the path, as the URL linking directly to the 1864 file. "
   ]
  },
  {
   "cell_type": "code",
   "execution_count": 21,
   "metadata": {},
   "outputs": [
    {
     "name": "stdout",
     "output_type": "stream",
     "text": [
      "             0         1     2    3    4    5  6   7\n",
      "0  ITE00100550  18640101  TMAX   10  NaN  NaN  E NaN\n",
      "1  ITE00100550  18640101  TMIN  -23  NaN  NaN  E NaN\n",
      "2  ITE00100550  18640101  PRCP   25  NaN  NaN  E NaN\n",
      "3  ASN00079028  18640101  PRCP    0  NaN  NaN  a NaN\n",
      "4  USC00064757  18640101  PRCP  119  NaN  NaN  F NaN\n"
     ]
    }
   ],
   "source": [
    "url = 'https://www1.ncdc.noaa.gov/pub/data/ghcn/daily/by_year/1864.csv.gz'\n",
    "df = pd.read_csv(url,\n",
    "                 compression = 'gzip',\n",
    "                 header = None)\n",
    "print(df.head())"
   ]
  },
  {
   "cell_type": "markdown",
   "metadata": {},
   "source": [
    "> **Ex. 4.1.2:** Structure your weather DataFrame by using only the relevant columns (station identifier, data, observation type, observation value), rename them. Make sure observations are correctly formated (how many decimals should we add? one?).\n",
    ">\n",
    ">> *Hint:* rename can be done with `df.columns=COLS` where `COLS` is a list of column names."
   ]
  },
  {
   "cell_type": "code",
   "execution_count": 22,
   "metadata": {},
   "outputs": [
    {
     "name": "stdout",
     "output_type": "stream",
     "text": [
      "  station_identifier      date observation_type  observation_value\n",
      "0        ITE00100550  18640101             TMAX                1.0\n",
      "1        ITE00100550  18640101             TMIN               -2.3\n",
      "2        ITE00100550  18640101             PRCP                2.5\n",
      "3        ASN00079028  18640101             PRCP                0.0\n",
      "4        USC00064757  18640101             PRCP               11.9\n"
     ]
    }
   ],
   "source": [
    "df = df.iloc[:,:4]\n",
    "COLS = ['station_identifier', 'date', 'observation_type', 'observation_value']\n",
    "\n",
    "df.columns = COLS\n",
    "\n",
    "df['observation_value'] = df['observation_value']/10 \n",
    "print(df.head())"
   ]
  },
  {
   "cell_type": "markdown",
   "metadata": {},
   "source": [
    "> **Ex. 4.1.3:**  Select data for the station `ITE00100550` and only observations for maximal temperature. Make a copy of the DataFrame. Explain in a one or two sentences how copying works.\n",
    ">\n",
    ">> *Hint 1*: the `&` operator works elementwise on boolean series (like `and` in core python).\n",
    ">\n",
    ">> *Hint 2*: copying of the dataframe is done with the `copy` method for DataFrames."
   ]
  },
  {
   "cell_type": "code",
   "execution_count": 23,
   "metadata": {},
   "outputs": [
    {
     "name": "stdout",
     "output_type": "stream",
     "text": [
      "    station_identifier      date observation_type  observation_value\n",
      "0          ITE00100550  18640101             TMAX                1.0\n",
      "75         ITE00100550  18640102             TMAX                0.8\n",
      "152        ITE00100550  18640103             TMAX               -2.8\n",
      "227        ITE00100550  18640104             TMAX                0.0\n",
      "305        ITE00100550  18640105             TMAX               -1.9\n"
     ]
    }
   ],
   "source": [
    "select_station = df.station_identifier == 'ITE00100550'\n",
    "select_type = df.observation_type == 'TMAX'\n",
    "\n",
    "select_rows = select_station & select_type\n",
    "\n",
    "df_select = df[select_rows].copy()\n",
    "\n",
    "print(df_select.head())"
   ]
  },
  {
   "cell_type": "markdown",
   "metadata": {},
   "source": [
    "> **Ex. 4.1.4:** Make a new column called `TMAX_F` where you have converted the temperature variables to Fahrenheit. \n",
    ">\n",
    ">> *Hint*: Conversion is $F = 32 + 1.8*C$ where $F$ is Fahrenheit and $C$ is Celsius."
   ]
  },
  {
   "cell_type": "code",
   "execution_count": 24,
   "metadata": {},
   "outputs": [
    {
     "name": "stdout",
     "output_type": "stream",
     "text": [
      "    station_identifier      date observation_type  observation_value  TMAX_F\n",
      "0          ITE00100550  18640101             TMAX                1.0   33.80\n",
      "75         ITE00100550  18640102             TMAX                0.8   33.44\n",
      "152        ITE00100550  18640103             TMAX               -2.8   26.96\n",
      "227        ITE00100550  18640104             TMAX                0.0   32.00\n",
      "305        ITE00100550  18640105             TMAX               -1.9   28.58\n"
     ]
    }
   ],
   "source": [
    "df_select['TMAX_F'] = 32 + 1.8*df_select['observation_value']\n",
    "print(df_select.head())"
   ]
  },
  {
   "cell_type": "markdown",
   "metadata": {},
   "source": [
    "## Problems from exercise set 5"
   ]
  },
  {
   "cell_type": "code",
   "execution_count": 25,
   "metadata": {},
   "outputs": [],
   "source": [
    "import matplotlib.pyplot as plt\n",
    "import numpy as np \n",
    "import pandas as pd\n",
    "import seaborn as sns \n",
    "\n",
    "%matplotlib inline \n",
    "\n",
    "iris = sns.load_dataset('iris')\n",
    "titanic = sns.load_dataset('titanic')"
   ]
  },
  {
   "cell_type": "markdown",
   "metadata": {},
   "source": [
    "> **Ex. 5.1.1:**: Show the first five rows of the titanic dataset. What information is in the dataset? Use a barplot to show the probability of survival for men and women within each passenger class. Can you make a boxplot showing the same information (why/why not?). _Bonus:_ show a boxplot for the fare-prices within each passenger class. \n",
    ">\n",
    "> Spend five minutes discussing what you can learn about the survival-selection aboard titanic from the figure(s).\n",
    ">\n",
    "> > _Hint:_ https://seaborn.pydata.org/generated/seaborn.barplot.html, specifically the `hue` option.\n"
   ]
  },
  {
   "cell_type": "code",
   "execution_count": 26,
   "metadata": {},
   "outputs": [],
   "source": [
    "# [Answer to Ex. 5.1.1 here]"
   ]
  },
  {
   "cell_type": "markdown",
   "metadata": {},
   "source": [
    "> **Ex. 5.1.2:** Using the iris flower dataset, draw a scatterplot of sepal length and petal length. Include a second order polynomial fitted to the data. Add a title to the plot and rename the axis labels.\n",
    "> _Discuss:_ Is this a meaningful way to display the data? What could we do differently?\n",
    ">\n",
    "> For a better understanding of the dataset this image might be useful:\n",
    "> <img src=\"iris_pic.png\" alt=\"Drawing\" style=\"width: 200px;\"/>\n",
    ">\n",
    ">> _Hint:_ use the `.regplot` method from seaborn. "
   ]
  },
  {
   "cell_type": "code",
   "execution_count": 27,
   "metadata": {},
   "outputs": [],
   "source": [
    "# [Answer to Ex. 5.1.2 here]"
   ]
  },
  {
   "cell_type": "markdown",
   "metadata": {},
   "source": [
    "> **Ex. 5.1.3:** Combine the two of the figures you created above into a two-panel figure similar to the one shown here:\n",
    "> <img src=\"Example.png\" alt=\"Drawing\" style=\"width: 600px;\"/>\n",
    ">\n",
    "> Save the figure as a png file on your computer. \n",
    ">> _Hint:_ See [this question](https://stackoverflow.com/questions/41384040/subplot-for-seaborn-boxplot) on stackoverflow for inspiration."
   ]
  },
  {
   "cell_type": "code",
   "execution_count": 28,
   "metadata": {},
   "outputs": [],
   "source": [
    "# [Answer to Ex. 5.1.3 here]"
   ]
  },
  {
   "cell_type": "markdown",
   "metadata": {},
   "source": [
    "> **Ex. 5.1.4:** Use [pairplot with hue](https://seaborn.pydata.org/generated/seaborn.pairplot.html) to create a figure that clearly shows how the different species vary across measurements. Change the color palette and remove the shading from the density plots. _Bonus:_ Try to explain how the `diag_kws` argument works (_hint:_ [read here](https://stackoverflow.com/questions/1769403/understanding-kwargs-in-python))"
   ]
  },
  {
   "cell_type": "code",
   "execution_count": 29,
   "metadata": {},
   "outputs": [],
   "source": [
    "# [Answer to Ex. 5.1.4 here]"
   ]
  },
  {
   "cell_type": "markdown",
   "metadata": {},
   "source": [
    "## Problems from exercise set 6\n",
    "\n",
    "> _Note:_ A central part of these exercises and the ones from exercise set 7 is downloading data from the NOAA servers. If you cannot complete this part, you can download the data as csv files **from [github](https://github.com/abjer/sds/tree/master/material/session_7)**."
   ]
  },
  {
   "cell_type": "code",
   "execution_count": 30,
   "metadata": {},
   "outputs": [],
   "source": [
    "%matplotlib inline\n",
    "import pandas as pd\n",
    "import matplotlib.pyplot as plt"
   ]
  },
  {
   "cell_type": "markdown",
   "metadata": {},
   "source": [
    "> **Ex. 6.1.4:** Extract the country code from the station name into a separate column.\n",
    ">\n",
    ">> _Hint:_ The station column contains a GHCND ID, given to each weather station by NOAA. The format of these ID's is a 2-3 letter country code, followed by a integer identifying the specific station. A simple approach is to assume a fixed length of the country ID. A more complex way would be to use the [`re`](https://docs.python.org/2/library/re.html) module."
   ]
  },
  {
   "cell_type": "code",
   "execution_count": 31,
   "metadata": {},
   "outputs": [
    {
     "name": "stdout",
     "output_type": "stream",
     "text": [
      "      station_identifier      date observation_type  observation_value  \\\n",
      "0            ITE00100550  18640101             TMAX                1.0   \n",
      "1            ITE00100550  18640101             TMIN               -2.3   \n",
      "2            ITE00100550  18640101             PRCP                2.5   \n",
      "3            ASN00079028  18640101             PRCP                0.0   \n",
      "4            USC00064757  18640101             PRCP               11.9   \n",
      "5            SF000208660  18640101             PRCP                0.0   \n",
      "6            ASN00089000  18640101             PRCP                0.0   \n",
      "7            SWE00100003  18640101             PRCP                0.0   \n",
      "8            ASN00086071  18640101             TMAX               21.4   \n",
      "9            ASN00086071  18640101             TMIN               10.1   \n",
      "10           ASN00086071  18640101             PRCP                0.0   \n",
      "11           USP00CA0003  18640101             PRCP                0.0   \n",
      "12           USC00189674  18640101             PRCP                0.0   \n",
      "13           USC00144559  18640101             PRCP                0.0   \n",
      "14           USC00144559  18640101             SNOW                0.0   \n",
      "15           CA006158350  18640101             TMAX                1.1   \n",
      "16           CA006158350  18640101             TMIN              -13.3   \n",
      "17           CA006158350  18640101             PRCP                0.5   \n",
      "18           CA006158350  18640101             SNOW                0.5   \n",
      "19           HRE00105189  18640101             PRCP               18.9   \n",
      "20           ASN00067054  18640101             PRCP                6.1   \n",
      "21           ASN00081003  18640101             PRCP                0.0   \n",
      "22           ASN00078037  18640101             PRCP                0.0   \n",
      "23           ASN00070037  18640101             PRCP                0.0   \n",
      "24           EIE00101859  18640101             TMAX                9.4   \n",
      "25           EIE00101859  18640101             TMIN                1.1   \n",
      "26           EIE00101859  18640101             PRCP                8.2   \n",
      "27           ASN00040214  18640101             PRCP                0.3   \n",
      "28           BE000006447  18640101             TMAX               -2.3   \n",
      "29           BE000006447  18640101             TMIN               -3.6   \n",
      "...                  ...       ...              ...                ...   \n",
      "27318        ASN00066062  18641231             TMAX               22.3   \n",
      "27319        ASN00066062  18641231             TMIN               17.2   \n",
      "27320        ASN00066062  18641231             PRCP                4.1   \n",
      "27321        ASN00023000  18641231             PRCP                0.0   \n",
      "27322        SW000010537  18641231             PRCP                0.0   \n",
      "27323        ASN00022018  18641231             PRCP                0.0   \n",
      "27324        AU000005901  18641231             TMAX               -2.8   \n",
      "27325        AU000005901  18641231             TMIN               -7.9   \n",
      "27326        GM000004204  18641231             TMAX               -3.4   \n",
      "27327        GM000004204  18641231             TMIN              -11.9   \n",
      "27328        GM000004204  18641231             PRCP                0.0   \n",
      "27329        ASN00075048  18641231             PRCP                0.0   \n",
      "27330        UK000047811  18641231             TMAX                4.0   \n",
      "27331        UK000047811  18641231             TMIN               -1.4   \n",
      "27332        UK000047811  18641231             PRCP                0.0   \n",
      "27333        HR000142360  18641231             PRCP                0.0   \n",
      "27334        ASN00084016  18641231             PRCP                1.8   \n",
      "27335        ITE00100553  18641231             PRCP                0.0   \n",
      "27336        ITE00100552  18641231             PRCP                0.0   \n",
      "27337        ITE00105250  18641231             PRCP                0.0   \n",
      "27338        USP00CA0001  18641231             PRCP               15.7   \n",
      "27339        ASN00090015  18641231             TMAX               23.9   \n",
      "27340        ASN00090015  18641231             TMIN               12.8   \n",
      "27341        UK000056225  18641231             TMAX                1.6   \n",
      "27342        UK000056225  18641231             TMIN               -1.9   \n",
      "27343        UK000056225  18641231             PRCP                0.3   \n",
      "27344        ASN00026026  18641231             PRCP                0.0   \n",
      "27345        ASN00089049  18641231             PRCP                0.0   \n",
      "27346        SZ000006717  18641231             TMAX               -6.2   \n",
      "27347        SZ000006717  18641231             TMIN              -10.5   \n",
      "\n",
      "      country_code  \n",
      "0              ITE  \n",
      "1              ITE  \n",
      "2              ITE  \n",
      "3              ASN  \n",
      "4              USC  \n",
      "5               SF  \n",
      "6              ASN  \n",
      "7              SWE  \n",
      "8              ASN  \n",
      "9              ASN  \n",
      "10             ASN  \n",
      "11           USPCA  \n",
      "12             USC  \n",
      "13             USC  \n",
      "14             USC  \n",
      "15              CA  \n",
      "16              CA  \n",
      "17              CA  \n",
      "18              CA  \n",
      "19             HRE  \n",
      "20             ASN  \n",
      "21             ASN  \n",
      "22             ASN  \n",
      "23             ASN  \n",
      "24             EIE  \n",
      "25             EIE  \n",
      "26             EIE  \n",
      "27             ASN  \n",
      "28              BE  \n",
      "29              BE  \n",
      "...            ...  \n",
      "27318          ASN  \n",
      "27319          ASN  \n",
      "27320          ASN  \n",
      "27321          ASN  \n",
      "27322           SW  \n",
      "27323          ASN  \n",
      "27324           AU  \n",
      "27325           AU  \n",
      "27326           GM  \n",
      "27327           GM  \n",
      "27328           GM  \n",
      "27329          ASN  \n",
      "27330           UK  \n",
      "27331           UK  \n",
      "27332           UK  \n",
      "27333           HR  \n",
      "27334          ASN  \n",
      "27335          ITE  \n",
      "27336          ITE  \n",
      "27337          ITE  \n",
      "27338        USPCA  \n",
      "27339          ASN  \n",
      "27340          ASN  \n",
      "27341           UK  \n",
      "27342           UK  \n",
      "27343           UK  \n",
      "27344          ASN  \n",
      "27345          ASN  \n",
      "27346           SZ  \n",
      "27347           SZ  \n",
      "\n",
      "[27348 rows x 5 columns]\n"
     ]
    }
   ],
   "source": [
    "import re\n",
    "df['country_code'] = df['station_identifier'].apply(lambda i: re.sub(\"[^a-zA-Z]*\", '', i))\n",
    "\n",
    "print(df)"
   ]
  },
  {
   "cell_type": "markdown",
   "metadata": {},
   "source": [
    "> **Ex. 6.1.5:** Make a function that downloads and formats the weather data according to previous exercises in Exercise Section 4.1, 6.1. You should use data for ALL stations but still only select maximal temperature. _Bonus:_ To validate that your function works plot the temperature curve for each country in the same window. Use `plt.legend()` to add a legend. "
   ]
  },
  {
   "cell_type": "code",
   "execution_count": 39,
   "metadata": {},
   "outputs": [
    {
     "name": "stdout",
     "output_type": "stream",
     "text": [
      "Data for 1864 is downloaded... 3 to go!\n",
      "Data for 1865 is downloaded... 2 to go!\n",
      "Data for 1866 is downloaded... 1 to go!\n",
      "Data for 1867 is downloaded... 0 to go!\n"
     ]
    }
   ],
   "source": [
    "import numpy as np\n",
    "import re\n",
    "import pandas as pd\n",
    "import time\n",
    "def weather(years):\n",
    "    base_url = 'https://www1.ncdc.noaa.gov/pub/data/ghcn/daily/by_year/'\n",
    "    \n",
    "    # downloads all weather data\n",
    "    for year in years:\n",
    "        # composes the url\n",
    "        url = base_url + str(year) + '.csv.gz'\n",
    "        \n",
    "        # reads the file from the url\n",
    "        df = pd.read_csv(url,\n",
    "                         compression = 'gzip',\n",
    "                         header = None)\n",
    "        \n",
    "        # selects only the relevant columns and replaces the indecies with column names\n",
    "        df = df.iloc[:,:4]\n",
    "        COLS = ['station_identifier', 'date', 'observation_type', 'observation_value']\n",
    "        df.columns = COLS\n",
    "        \n",
    "        # adjusts the observation value\n",
    "        df['observation_value'] = df['observation_value']/10 \n",
    "\n",
    "        # selects only the observation for the maximum temperature\n",
    "        select_type = df.observation_type == 'TMAX'\n",
    "        df_select = df[select_type].copy()\n",
    "\n",
    "        # conversion from celcius to farenheit\n",
    "        df_select['TMAX_F'] = 32 + 1.8*df_select['observation_value']\n",
    "\n",
    "        # sort by date\n",
    "        df_select = df_select.sort_values(by = 'date', ascending = True)\n",
    "        \n",
    "        # converts integer to date time\n",
    "        df_select['date'] = pd.to_datetime(df_select['date'] , format = '%Y%m%d')\n",
    "        \n",
    "        # creates new variable for month\n",
    "        df_select['month'] = df_select['date'].dt.month\n",
    "        \n",
    "        # selects the country code\n",
    "        df_select['country_code'] = df_select['station_identifier'].apply(lambda i: re.sub(\"[^a-zA-Z]*\", '', i))\n",
    "        \n",
    "        # saves the file\n",
    "        rel_path = str(year) + '.csv'\n",
    "        df_select.to_csv(rel_path,index=False)\n",
    "        \n",
    "        # parses for 2 seconds such that we don't get kicked off\n",
    "        print('Data for ' + str(year) + ' is downloaded... ' + str(years[-1] - year) + ' to go!')\n",
    "        time.sleep(2)\n",
    "\n",
    "# downloads and formats the datasets for the selected years\n",
    "years = list(range(1864,1868))\n",
    "weather(years) "
   ]
  },
  {
   "cell_type": "markdown",
   "metadata": {},
   "source": [
    "## Problems from exercise set 7\n",
    "\n",
    "> _Note:_ Once again if you haven't managed to download the data from NOAA, you can refer to the github repo to get csv-files containing the required data."
   ]
  },
  {
   "cell_type": "code",
   "execution_count": 40,
   "metadata": {},
   "outputs": [],
   "source": [
    "%matplotlib inline \n",
    "\n",
    "import pandas as pd \n",
    "import matplotlib.pyplot as plt\n",
    "import matplotlib as mpl\n",
    "\n",
    "# Increases the plot size a little\n",
    "mpl.rcParams['figure.figsize'] = 11, 6"
   ]
  },
  {
   "cell_type": "markdown",
   "metadata": {},
   "source": [
    "> **Ex. 7.1.1:** Plot the monthly max,min, mean, first and third quartiles for maximum temperature for our station with the ID _'ITE00100550'_ in 1864. \n",
    "\n",
    "> *Hint*: the method `describe` computes all these measures."
   ]
  },
  {
   "cell_type": "code",
   "execution_count": 41,
   "metadata": {},
   "outputs": [
    {
     "name": "stdout",
     "output_type": "stream",
     "text": [
      "   station_identifier        date observation_type  observation_value  TMAX_F  \\\n",
      "0         ITE00100550  1864-01-01             TMAX                1.0   33.80   \n",
      "27        ITE00100550  1864-01-02             TMAX                0.8   33.44   \n",
      "42        ITE00100550  1864-01-03             TMAX               -2.8   26.96   \n",
      "56        ITE00100550  1864-01-04             TMAX                0.0   32.00   \n",
      "71        ITE00100550  1864-01-05             TMAX               -1.9   28.58   \n",
      "\n",
      "    month country_code  \n",
      "0       1          ITE  \n",
      "27      1          ITE  \n",
      "42      1          ITE  \n",
      "56      1          ITE  \n",
      "71      1          ITE  \n"
     ]
    },
    {
     "data": {
      "text/plain": [
       "<matplotlib.axes._subplots.AxesSubplot at 0x1a1ef019e8>"
      ]
     },
     "execution_count": 41,
     "metadata": {},
     "output_type": "execute_result"
    },
    {
     "data": {
      "image/png": "[encoded data removed]",
      "text/plain": [
       "<Figure size 792x432 with 1 Axes>"
      ]
     },
     "metadata": {},
     "output_type": "display_data"
    }
   ],
   "source": [
    "import seaborn as sns\n",
    "df = pd.read_csv('1864.csv', sep=',')\n",
    "df_select = df['ITE00100550' == df.station_identifier].copy()\n",
    "print(df_select.head())\n",
    "\n",
    "split_var = 'month'\n",
    "apply_var = 'TMAX_F'\n",
    "apply_fcts= ['mean','max','min','25%','75%']\n",
    "df_select\\\n",
    "    .groupby(split_var)\\\n",
    "    [apply_var]\\\n",
    "    .describe()\\\n",
    "    .plot(y = apply_fcts)"
   ]
  },
  {
   "cell_type": "markdown",
   "metadata": {},
   "source": [
    "> **Ex. 7.1.2:** Get the processed data from years 1864-1867 as a list of DataFrames. Convert the list into a single DataFrame by concatenating vertically. "
   ]
  },
  {
   "cell_type": "code",
   "execution_count": 43,
   "metadata": {},
   "outputs": [
    {
     "name": "stdout",
     "output_type": "stream",
     "text": [
      "  station_identifier        date observation_type  observation_value  TMAX_F  \\\n",
      "0        ITE00100550  1864-01-01             TMAX                1.0   33.80   \n",
      "1        SZ000006717  1864-01-01             TMAX               -8.2   17.24   \n",
      "2        UK000056225  1864-01-01             TMAX                0.5   32.90   \n",
      "3        UK000047811  1864-01-01             TMAX                5.9   42.62   \n",
      "4        AU000005901  1864-01-01             TMAX               -5.0   23.00   \n",
      "\n",
      "   month country_code  \n",
      "0      1          ITE  \n",
      "1      1           SZ  \n",
      "2      1           UK  \n",
      "3      1           UK  \n",
      "4      1           AU  \n"
     ]
    }
   ],
   "source": [
    "years = list(range(1864,1868))\n",
    "df_concat = pd.DataFrame([])\n",
    "for year in years:\n",
    "    file = str(year)+'.csv'\n",
    "    df_year = pd.read_csv(file, sep = ',')\n",
    "    df_concat = pd.concat([df_concat, df_year])\n",
    "\n",
    "print(df_concat.head())"
   ]
  },
  {
   "cell_type": "markdown",
   "metadata": {},
   "source": [
    "> **Ex. 7.1.3:** Parse the station location data which you can find at https://www1.ncdc.noaa.gov/pub/data/ghcn/daily/ghcnd-stations.txt. Merge station locations onto the weather data spanning 1864-1867.  \n",
    "\n",
    "> _Hint:_ The location data have the folllowing format, \n",
    "\n",
    "```\n",
    "------------------------------\n",
    "Variable   Columns   Type\n",
    "------------------------------\n",
    "ID            1-11   Character\n",
    "LATITUDE     13-20   Real\n",
    "LONGITUDE    22-30   Real\n",
    "ELEVATION    32-37   Real\n",
    "STATE        39-40   Character\n",
    "NAME         42-71   Character\n",
    "GSN FLAG     73-75   Character\n",
    "HCN/CRN FLAG 77-79   Character\n",
    "WMO ID       81-85   Character\n",
    "------------------------------\n",
    "```\n",
    "\n",
    "> *Hint*: The station information has fixed width format - does there exist a pandas reader for that?"
   ]
  },
  {
   "cell_type": "code",
   "execution_count": 44,
   "metadata": {},
   "outputs": [
    {
     "name": "stdout",
     "output_type": "stream",
     "text": [
      "  station_identifier               location\n",
      "0        ACW00011604  ST JOHNS COOLIDGE FLD\n",
      "1        ACW00011647               ST JOHNS\n",
      "2        AE000041196    SHARJAH INTER. AIRP\n",
      "3        AEM00041194             DUBAI INTL\n",
      "4        AEM00041217         ABU DHABI INTL\n"
     ]
    }
   ],
   "source": [
    "url = 'https://www1.ncdc.noaa.gov/pub/data/ghcn/daily/ghcnd-stations.txt'\n",
    "\n",
    "df_txt = pd.read_fwf(url, header = None)\n",
    "df_txt = df_txt.loc[:,[0,4]]\n",
    "df_txt.columns = ['station_identifier','location']\n",
    "print(df_txt.head(5))"
   ]
  },
  {
   "cell_type": "code",
   "execution_count": 45,
   "metadata": {},
   "outputs": [
    {
     "name": "stdout",
     "output_type": "stream",
     "text": [
      "  station_identifier        date observation_type  observation_value  TMAX_F  \\\n",
      "0        ITE00100550  1864-01-01             TMAX                1.0   33.80   \n",
      "1        SZ000006717  1864-01-01             TMAX               -8.2   17.24   \n",
      "2        UK000056225  1864-01-01             TMAX                0.5   32.90   \n",
      "3        UK000047811  1864-01-01             TMAX                5.9   42.62   \n",
      "4        AU000005901  1864-01-01             TMAX               -5.0   23.00   \n",
      "\n",
      "   month country_code                 location  \n",
      "0      1          ITE                  BOLOGNA  \n",
      "1      1           SZ  COL DU GRAND ST-BERNARD  \n",
      "2      1           UK                   OXFORD  \n",
      "3      1           UK                   ARMAGH  \n",
      "4      1           AU                     WIEN  \n"
     ]
    }
   ],
   "source": [
    "df_txt = pd.DataFrame(df_txt)\n",
    "\n",
    "df_merge = pd.merge(df_concat, df_txt, how = 'left', left_on= 'station_identifier', right_on = 'station_identifier')\n",
    "print(df_merge.head())"
   ]
  },
  {
   "cell_type": "markdown",
   "metadata": {},
   "source": [
    "## Problems from exercise set 8\n",
    "\n",
    "> **Ex. 8.1.2.:** Use the `request` module to collect the first page of job postings and unpack the relevant `json` data into a `pandas` DataFrame."
   ]
  },
  {
   "cell_type": "code",
   "execution_count": 46,
   "metadata": {},
   "outputs": [
    {
     "name": "stdout",
     "output_type": "stream",
     "text": [
      "dict_keys(['Expression', 'Facets', 'JobPositionPostings', 'TotalResultCount'])\n"
     ]
    }
   ],
   "source": [
    "import requests\n",
    "import pandas as pd\n",
    "import json\n",
    "\n",
    "url = 'https://job.jobnet.dk/CV/FindWork/Search?Offset=0&SortValue=BestMatch'\n",
    "response = requests.get(url)\n",
    "json = json.loads(response.text)\n",
    "print(json.keys())"
   ]
  },
  {
   "cell_type": "markdown",
   "metadata": {},
   "source": [
    "> **Ex. 8.1.3.:** Store and print the 'TotalResultCount' value for later use. Also create a dataframe from the 'JobPositionPostings' field in the json. "
   ]
  },
  {
   "cell_type": "code",
   "execution_count": 50,
   "metadata": {},
   "outputs": [],
   "source": [
    "df_jpp = pd.DataFrame(json['JobPositionPostings'])\n",
    "trc = json['TotalResultCount']"
   ]
  },
  {
   "cell_type": "markdown",
   "metadata": {},
   "source": [
    "## Problems from exercise set 9\n",
    "\n",
    "> **Ex. 9.2.1:** Load the data used in the exercise using the `pd.read_csv` function. (Hint: path to file can be both a url or systempath). \n",
    "\n",
    ">Define a variable `sample_string = '\\n'.join(df.sample(2000).reviewBody)` as sample of all the reviews that you will practice on.  (Run it once in a while to get a new sample for potential differences).\n",
    "Imagine we were a company wanting to find the reviews where customers are concerned with the price of a service. They decide to write a regular expression to match all reviews where a currencies and an amount is mentioned. "
   ]
  },
  {
   "cell_type": "code",
   "execution_count": null,
   "metadata": {},
   "outputs": [],
   "source": [
    "# [Answer to Ex. 9.2.1]"
   ]
  },
  {
   "cell_type": "markdown",
   "metadata": {},
   "source": [
    "> **Ex. 9.2.2:** \n",
    "> Write an expression that matches both the dollar-sign (\\$) and dollar written literally, and the amount before or after a dollar-sign. Remember that the \"$\"-sign is a special character in regular expressions. Explore and refine using the explore_pattern function in the package I created called explore_regex. \n",
    "```python\n",
    "import explore_regex as e_re\n",
    "explore_regex = e_re.Explore_Regex(sample_string) # Initaizlie the Explore regex Class.\n",
    "explore_regex.explore_pattern(pattern) # Use the .explore_pattern method.\n",
    "```\n",
    "\n",
    "\n",
    "Start with exploring the context around digits (\"\\d\") in the data. "
   ]
  },
  {
   "cell_type": "code",
   "execution_count": null,
   "metadata": {},
   "outputs": [],
   "source": [
    "# [Answer to Ex. 9.2.2]"
   ]
  },
  {
   "cell_type": "markdown",
   "metadata": {},
   "source": [
    "> **Ex.9.2.3** Use the .report() method. e_re.report(), and print the all patterns in the development process using the .pattern method - i.e. e_re.patterns "
   ]
  },
  {
   "cell_type": "code",
   "execution_count": null,
   "metadata": {},
   "outputs": [],
   "source": [
    "# [Answer to Ex. 9.2.3]"
   ]
  }
 ],
 "metadata": {
  "kernelspec": {
   "display_name": "Python 3",
   "language": "python",
   "name": "python3"
  },
  "language_info": {
   "codemirror_mode": {
    "name": "ipython",
    "version": 3
   },
   "file_extension": ".py",
   "mimetype": "text/x-python",
   "name": "python",
   "nbconvert_exporter": "python",
   "pygments_lexer": "ipython3",
   "version": "3.6.5"
  }
 },
 "nbformat": 4,
 "nbformat_minor": 2
}
